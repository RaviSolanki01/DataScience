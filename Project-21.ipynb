{
 "cells": [
  {
   "cell_type": "markdown",
   "metadata": {},
   "source": [
    "Revisionary Project\n",
    "\n",
    "For this example, we’ll use a linear regression on the scikit-learn database of California housing data.\n",
    "\n",
    "Cross validation\n",
    "\n",
    "LOOCV\n",
    "\n",
    "https://towardsdatascience.com/cross-validation-a-beginners-guide-5b8ca04962cd"
   ]
  },
  {
   "cell_type": "code",
   "execution_count": 1,
   "metadata": {
    "colab": {},
    "colab_type": "code",
    "id": "rLs-UJnayylW"
   },
   "outputs": [],
   "source": [
    "from sklearn import datasets\n",
    "calihouses  = datasets.fetch_california_housing()\n",
    "data = calihouses.data"
   ]
  },
  {
   "cell_type": "code",
   "execution_count": 2,
   "metadata": {
    "colab": {
     "base_uri": "https://localhost:8080/",
     "height": 272
    },
    "colab_type": "code",
    "id": "EfAqKMYulPaN",
    "outputId": "2cbfb57a-0553-45a6-cd42-64ffed584288",
    "scrolled": false
   },
   "outputs": [
    {
     "name": "stdout",
     "output_type": "stream",
     "text": [
      "(20640, 8)\n",
      "   MedInc  HouseAge  AveRooms  AveBedrms  Population  AveOccup  Latitude  \\\n",
      "0  8.3252      41.0  6.984127   1.023810       322.0  2.555556     37.88   \n",
      "1  8.3014      21.0  6.238137   0.971880      2401.0  2.109842     37.86   \n",
      "2  7.2574      52.0  8.288136   1.073446       496.0  2.802260     37.85   \n",
      "3  5.6431      52.0  5.817352   1.073059       558.0  2.547945     37.85   \n",
      "4  3.8462      52.0  6.281853   1.081081       565.0  2.181467     37.85   \n",
      "\n",
      "   Longitude  \n",
      "0    -122.23  \n",
      "1    -122.22  \n",
      "2    -122.24  \n",
      "3    -122.25  \n",
      "4    -122.25  \n"
     ]
    }
   ],
   "source": [
    "import pandas as pd\n",
    "import numpy as np\n",
    "\n",
    "col = calihouses.feature_names\n",
    "df = pd.DataFrame(data, columns=col)\n",
    "\n",
    "print(df.shape)\n",
    "print(df.head())"
   ]
  },
  {
   "cell_type": "code",
   "execution_count": 3,
   "metadata": {
    "colab": {
     "base_uri": "https://localhost:8080/",
     "height": 51
    },
    "colab_type": "code",
    "id": "RXqhY0EImN1b",
    "outputId": "f47ef077-1477-497a-fb53-5315b07ec165"
   },
   "outputs": [
    {
     "name": "stdout",
     "output_type": "stream",
     "text": [
      "(15480, 8) (15480,)\n",
      "(5160, 8) (5160,)\n"
     ]
    }
   ],
   "source": [
    "y = calihouses.target\n",
    "\n",
    "from sklearn.model_selection import train_test_split\n",
    "X_train, X_test,y_train, y_test =train_test_split(df,y,test_size =0.25)\n",
    "\n",
    "print(X_train.shape,y_train.shape)\n",
    "print(X_test.shape, y_test.shape)"
   ]
  },
  {
   "cell_type": "code",
   "execution_count": 4,
   "metadata": {
    "colab": {
     "base_uri": "https://localhost:8080/",
     "height": 34
    },
    "colab_type": "code",
    "id": "CGnDiQ9hnkNI",
    "outputId": "b8fdd5f9-b2cd-4aa6-b6f1-31a302c03c41"
   },
   "outputs": [
    {
     "name": "stdout",
     "output_type": "stream",
     "text": [
      "[1.08094043 1.5687526  1.93950079 ... 2.35517658 2.71194651 2.93036382]\n"
     ]
    }
   ],
   "source": [
    "from timeit import default_timer as timer\n",
    "start_ho = timer()\n",
    "\n",
    "from sklearn.linear_model import LinearRegression\n",
    "lm = LinearRegression()\n",
    "model = lm.fit(X_train, y_train)\n",
    "\n",
    "predictions = lm.predict(X_test)\n",
    "\n",
    "end_ho = timer()\n",
    "\n",
    "time_ho = (end_ho - start_ho)\n",
    "\n",
    "print(predictions)"
   ]
  },
  {
   "cell_type": "code",
   "execution_count": 5,
   "metadata": {
    "colab": {
     "base_uri": "https://localhost:8080/",
     "height": 296
    },
    "colab_type": "code",
    "id": "nkP5MR_Z8sNf",
    "outputId": "1b37ed1d-7cb3-4e09-dbe3-9ee2555a2507"
   },
   "outputs": [
    {
     "data": {
      "text/plain": [
       "[<matplotlib.lines.Line2D at 0x7fe15bbd4320>]"
      ]
     },
     "execution_count": 5,
     "metadata": {},
     "output_type": "execute_result"
    }
   ],
   "source": [
    "from matplotlib import pyplot as plt\n",
    "import seaborn as sns\n",
    "\n",
    "sns.set_style('dark')\n",
    "\n",
    "plot = sns.scatterplot(y_test, predictions)\n",
    "plot.set(xlabel='Given',ylabel='Prediction')\n",
    "\n",
    "x_plot = np.linspace(0,5,100)\n",
    "y_plot = x_plot\n",
    "plt.plot(x_plot, y_plot, color='r')"
   ]
  },
  {
   "cell_type": "code",
   "execution_count": 6,
   "metadata": {
    "colab": {
     "base_uri": "https://localhost:8080/",
     "height": 34
    },
    "colab_type": "code",
    "id": "l1l4YCylA2LR",
    "outputId": "6774ff89-5267-452b-f8da-9a316e0a1545"
   },
   "outputs": [
    {
     "name": "stdout",
     "output_type": "stream",
     "text": [
      "-0.5405412157063616\n"
     ]
    }
   ],
   "source": [
    "start_ho_score = timer()\n",
    "\n",
    "from sklearn import metrics\n",
    "ho_score = -1*metrics.mean_squared_error(y_test, predictions)\n",
    "\n",
    "print(ho_score)\n",
    "\n",
    "end_ho_score = timer()\n",
    "\n",
    "ho_score_time = (end_ho_score - start_ho_score)"
   ]
  },
  {
   "cell_type": "code",
   "execution_count": 7,
   "metadata": {
    "colab": {
     "base_uri": "https://localhost:8080/",
     "height": 34
    },
    "colab_type": "code",
    "id": "qdEK8Z2ECM97",
    "outputId": "67a8fe1f-526a-45f1-b85e-71988f9fc1d6"
   },
   "outputs": [
    {
     "name": "stdout",
     "output_type": "stream",
     "text": [
      "[4.22358985 4.04800271 3.75534521 ... 0.14474758 0.29600522 0.49525933]\n"
     ]
    }
   ],
   "source": [
    "X = np.array(df)\n",
    "\n",
    "start_kfold = timer()\n",
    "\n",
    "from sklearn.model_selection import cross_val_predict\n",
    "lm_k = LinearRegression()\n",
    "k_predictions = cross_val_predict(lm_k, X, y, cv=10)\n",
    "print(k_predictions)\n",
    "\n",
    "end_kfold = timer()\n",
    "\n",
    "kfold_time = (end_kfold - start_kfold)"
   ]
  },
  {
   "cell_type": "code",
   "execution_count": 8,
   "metadata": {
    "colab": {
     "base_uri": "https://localhost:8080/",
     "height": 296
    },
    "colab_type": "code",
    "id": "az4g76SJSYiv",
    "outputId": "bd30179a-d20f-4e70-b5e9-c3a0250eee5c"
   },
   "outputs": [
    {
     "data": {
      "text/plain": [
       "[<matplotlib.lines.Line2D at 0x7fe15a34cdd8>]"
      ]
     },
     "execution_count": 8,
     "metadata": {},
     "output_type": "execute_result"
    },
    {
     "data": {
      "image/png": "[encoded data removed]",
      "text/plain": [
       "<Figure size 432x288 with 1 Axes>"
      ]
     },
     "metadata": {
      "needs_background": "light"
     },
     "output_type": "display_data"
    }
   ],
   "source": [
    "plot_k = sns.scatterplot(y, k_predictions)\n",
    "plot_k.set(xlabel='Given',ylabel = 'Prediction')\n",
    "\n",
    "x_plot = np.linspace(0,5,100)\n",
    "y_plot = x_plot\n",
    "plt.plot(x_plot, y_plot, color='r')"
   ]
  },
  {
   "cell_type": "code",
   "execution_count": 9,
   "metadata": {
    "colab": {
     "base_uri": "https://localhost:8080/",
     "height": 299
    },
    "colab_type": "code",
    "id": "9GMTJeYST_Wk",
    "outputId": "a4ae3ce2-c3a7-433c-e1b0-bce0f63df324"
   },
   "outputs": [
    {
     "name": "stdout",
     "output_type": "stream",
     "text": [
      "-0.550952429695666\n"
     ]
    },
    {
     "name": "stderr",
     "output_type": "stream",
     "text": [
      "/home/direwolf/anaconda3/lib/python3.7/site-packages/scipy/stats/stats.py:1713: FutureWarning: Using a non-tuple sequence for multidimensional indexing is deprecated; use `arr[tuple(seq)]` instead of `arr[seq]`. In the future this will be interpreted as an array index, `arr[np.array(seq)]`, which will result either in an error or a different result.\n",
      "  return np.add.reduce(sorted[indexer] * weights, axis=axis) / sumval\n"
     ]
    },
    {
     "data": {
      "text/plain": [
       "<matplotlib.axes._subplots.AxesSubplot at 0x7fe15a393438>"
      ]
     },
     "execution_count": 9,
     "metadata": {},
     "output_type": "execute_result"
    },
    {
     "data": {
      "image/png": "[encoded data removed]",
      "text/plain": [
       "<Figure size 432x288 with 1 Axes>"
      ]
     },
     "metadata": {
      "needs_background": "light"
     },
     "output_type": "display_data"
    }
   ],
   "source": [
    "kfold_score_start = timer()\n",
    "\n",
    "from sklearn.model_selection import cross_val_score\n",
    "kfold_scores =cross_val_score(lm_k, X, y, cv=10, scoring='neg_mean_squared_error')\n",
    "print(kfold_scores.mean())\n",
    "\n",
    "kfold_score_end = timer()\n",
    "\n",
    "kfold_score_time = (kfold_score_end - kfold_score_start)\n",
    "\n",
    "sns.distplot(kfold_scores, bins =5)"
   ]
  },
  {
   "cell_type": "code",
   "execution_count": 10,
   "metadata": {
    "colab": {},
    "colab_type": "code",
    "id": "ZdAQHZP0VfbY"
   },
   "outputs": [],
   "source": [
    "start_LOO = timer()\n",
    "\n",
    "LOO_predictions = cross_val_predict(lm_k, X, y, cv=(len(X)))\n",
    "\n",
    "end_LOO = timer()\n",
    "\n",
    "LOO_time = (end_LOO - start_LOO)"
   ]
  },
  {
   "cell_type": "code",
   "execution_count": 11,
   "metadata": {
    "colab": {
     "base_uri": "https://localhost:8080/",
     "height": 296
    },
    "colab_type": "code",
    "id": "RcTSHMakWUSl",
    "outputId": "11576a1f-14c7-41c7-d30c-b35bf80adb7c"
   },
   "outputs": [
    {
     "data": {
      "text/plain": [
       "[<matplotlib.lines.Line2D at 0x7fe15a0f1940>]"
      ]
     },
     "execution_count": 11,
     "metadata": {},
     "output_type": "execute_result"
    },
    {
     "data": {
      "image/png": "[encoded data removed]",
      "text/plain": [
       "<Figure size 432x288 with 1 Axes>"
      ]
     },
     "metadata": {
      "needs_background": "light"
     },
     "output_type": "display_data"
    }
   ],
   "source": [
    "plot_LOO = sns.scatterplot(y, LOO_predictions)\n",
    "plot_LOO.set(xlabel='Given', ylabel='Prediction')\n",
    "\n",
    "x_plot = np.linspace(0,5,100)\n",
    "y_plot = x_plot\n",
    "plt.plot(x_plot, y_plot, color='r')"
   ]
  },
  {
   "cell_type": "code",
   "execution_count": 12,
   "metadata": {
    "colab": {
     "base_uri": "https://localhost:8080/",
     "height": 34
    },
    "colab_type": "code",
    "id": "_Lxls5SLXEaD",
    "outputId": "70beeec2-cfae-466a-affc-cc3cfb870f3a"
   },
   "outputs": [
    {
     "name": "stdout",
     "output_type": "stream",
     "text": [
      "-0.5282462043712454\n"
     ]
    }
   ],
   "source": [
    "LOO_score_start = timer()\n",
    "\n",
    "LOO_score = cross_val_score(lm_k, X, y, cv=(len(X)),scoring='neg_mean_squared_error').mean()\n",
    "print(LOO_score)\n",
    "\n",
    "LOO_score_end = timer()\n",
    "\n",
    "LOO_score_time = (LOO_score_end - LOO_score_start)"
   ]
  },
  {
   "cell_type": "code",
   "execution_count": 13,
   "metadata": {
    "colab": {},
    "colab_type": "code",
    "id": "IEF3Gs06YGr2"
   },
   "outputs": [
    {
     "name": "stdout",
     "output_type": "stream",
     "text": [
      "Hold out method took 2.370422115999986 seconds to generate a model and 0.000838329000032445 seconds to generate a MSE of -0.5405412157063616\n",
      "K-Fold out method took 0.09173734600000216 seconds to generate a model and 0.08640644500002281 seconds to generate a MSE of -0.550952429695666\n",
      "Leave One Out Cross Validation method took 163.455813277 seconds to generate a model and 128.12826711100007 seconds to generate a MSE of -0.5282462043712454\n"
     ]
    }
   ],
   "source": [
    "print('Hold out method took',time_ho,'seconds to generate a model and',ho_score_time,'seconds to generate a MSE of',ho_score)\n",
    "print('K-Fold out method took',kfold_time,'seconds to generate a model and',kfold_score_time,'seconds to generate a MSE of',kfold_scores.mean())\n",
    "print('Leave One Out Cross Validation method took',LOO_time,'seconds to generate a model and',LOO_score_time,'seconds to generate a MSE of',LOO_score)"
   ]
  },
  {
   "cell_type": "code",
   "execution_count": 14,
   "metadata": {},
   "outputs": [
    {
     "data": {
      "text/html": [
       "<div>\n",
       "<style scoped>\n",
       "    .dataframe tbody tr th:only-of-type {\n",
       "        vertical-align: middle;\n",
       "    }\n",
       "\n",
       "    .dataframe tbody tr th {\n",
       "        vertical-align: top;\n",
       "    }\n",
       "\n",
       "    .dataframe thead th {\n",
       "        text-align: right;\n",
       "    }\n",
       "</style>\n",
       "<table border=\"1\" class=\"dataframe\">\n",
       "  <thead>\n",
       "    <tr style=\"text-align: right;\">\n",
       "      <th></th>\n",
       "      <th>method</th>\n",
       "      <th>time took</th>\n",
       "      <th>seconds to generate a model</th>\n",
       "      <th>seconds to generate a MSE</th>\n",
       "    </tr>\n",
       "  </thead>\n",
       "  <tbody>\n",
       "    <tr>\n",
       "      <th>0</th>\n",
       "      <td>Hold out</td>\n",
       "      <td>2.370422</td>\n",
       "      <td>0.000838</td>\n",
       "      <td>-0.540541</td>\n",
       "    </tr>\n",
       "    <tr>\n",
       "      <th>1</th>\n",
       "      <td>K-Fold</td>\n",
       "      <td>0.091737</td>\n",
       "      <td>0.086406</td>\n",
       "      <td>-0.550952</td>\n",
       "    </tr>\n",
       "    <tr>\n",
       "      <th>2</th>\n",
       "      <td>Leave One Out Cross Validation</td>\n",
       "      <td>163.455813</td>\n",
       "      <td>128.128267</td>\n",
       "      <td>-0.528246</td>\n",
       "    </tr>\n",
       "  </tbody>\n",
       "</table>\n",
       "</div>"
      ],
      "text/plain": [
       "                           method   time took  seconds to generate a model  \\\n",
       "0                        Hold out    2.370422                     0.000838   \n",
       "1                          K-Fold    0.091737                     0.086406   \n",
       "2  Leave One Out Cross Validation  163.455813                   128.128267   \n",
       "\n",
       "   seconds to generate a MSE  \n",
       "0                  -0.540541  \n",
       "1                  -0.550952  \n",
       "2                  -0.528246  "
      ]
     },
     "execution_count": 14,
     "metadata": {},
     "output_type": "execute_result"
    }
   ],
   "source": [
    "pd.DataFrame({'method':['Hold out','K-Fold','Leave One Out Cross Validation'],'time took':[time_ho,kfold_time,LOO_time],'seconds to generate a model':[ho_score_time,kfold_score_time,LOO_score_time],'seconds to generate a MSE':[ho_score,kfold_scores.mean(),LOO_score]})"
   ]
  },
  {
   "cell_type": "code",
   "execution_count": 15,
   "metadata": {
    "collapsed": true
   },
   "outputs": [
    {
     "name": "stdout",
     "output_type": "stream",
     "text": [
      "   elevation  aspect  slope  horizontal_distance_to_hydrology  \\\n",
      "0       2596      51      3                               258   \n",
      "1       2590      56      2                               212   \n",
      "2       2804     139      9                               268   \n",
      "3       2785     155     18                               242   \n",
      "4       2595      45      2                               153   \n",
      "\n",
      "   vertical_distance_to_hydrology  horizontal_distance_to_roadways  \\\n",
      "0                               0                              510   \n",
      "1                              -6                              390   \n",
      "2                              65                             3180   \n",
      "3                             118                             3090   \n",
      "4                              -1                              391   \n",
      "\n",
      "   hillshade_9am  hillshade_noon  hillshade_3pm  \\\n",
      "0            221             232            148   \n",
      "1            220             235            151   \n",
      "2            234             238            135   \n",
      "3            238             238            122   \n",
      "4            220             234            150   \n",
      "\n",
      "   horizontal_distance_to_fire_points     ...      soil_type_32  soil_type_33  \\\n",
      "0                                6279     ...                 0             0   \n",
      "1                                6225     ...                 0             0   \n",
      "2                                6121     ...                 0             0   \n",
      "3                                6211     ...                 0             0   \n",
      "4                                6172     ...                 0             0   \n",
      "\n",
      "   soil_type_34  soil_type_35  soil_type_36  soil_type_37  soil_type_38  \\\n",
      "0             0             0             0             0             0   \n",
      "1             0             0             0             0             0   \n",
      "2             0             0             0             0             0   \n",
      "3             0             0             0             0             0   \n",
      "4             0             0             0             0             0   \n",
      "\n",
      "   soil_type_39  soil_type_40  cover_type  \n",
      "0             0             0           5  \n",
      "1             0             0           5  \n",
      "2             0             0           2  \n",
      "3             0             0           2  \n",
      "4             0             0           5  \n",
      "\n",
      "[5 rows x 55 columns]\n"
     ]
    }
   ],
   "source": [
    "df = pd.read_csv('https://raw.githubusercontent.com/jeffheaton/data/master/covtype.csv')"
   ]
  },
  {
   "cell_type": "code",
   "execution_count": 17,
   "metadata": {},
   "outputs": [
    {
     "data": {
      "text/html": [
       "<div>\n",
       "<style scoped>\n",
       "    .dataframe tbody tr th:only-of-type {\n",
       "        vertical-align: middle;\n",
       "    }\n",
       "\n",
       "    .dataframe tbody tr th {\n",
       "        vertical-align: top;\n",
       "    }\n",
       "\n",
       "    .dataframe thead th {\n",
       "        text-align: right;\n",
       "    }\n",
       "</style>\n",
       "<table border=\"1\" class=\"dataframe\">\n",
       "  <thead>\n",
       "    <tr style=\"text-align: right;\">\n",
       "      <th></th>\n",
       "      <th>elevation</th>\n",
       "      <th>aspect</th>\n",
       "      <th>slope</th>\n",
       "      <th>horizontal_distance_to_hydrology</th>\n",
       "      <th>vertical_distance_to_hydrology</th>\n",
       "      <th>horizontal_distance_to_roadways</th>\n",
       "      <th>hillshade_9am</th>\n",
       "      <th>hillshade_noon</th>\n",
       "      <th>hillshade_3pm</th>\n",
       "      <th>horizontal_distance_to_fire_points</th>\n",
       "      <th>...</th>\n",
       "      <th>soil_type_32</th>\n",
       "      <th>soil_type_33</th>\n",
       "      <th>soil_type_34</th>\n",
       "      <th>soil_type_35</th>\n",
       "      <th>soil_type_36</th>\n",
       "      <th>soil_type_37</th>\n",
       "      <th>soil_type_38</th>\n",
       "      <th>soil_type_39</th>\n",
       "      <th>soil_type_40</th>\n",
       "      <th>cover_type</th>\n",
       "    </tr>\n",
       "  </thead>\n",
       "  <tbody>\n",
       "    <tr>\n",
       "      <th>0</th>\n",
       "      <td>2596</td>\n",
       "      <td>51</td>\n",
       "      <td>3</td>\n",
       "      <td>258</td>\n",
       "      <td>0</td>\n",
       "      <td>510</td>\n",
       "      <td>221</td>\n",
       "      <td>232</td>\n",
       "      <td>148</td>\n",
       "      <td>6279</td>\n",
       "      <td>...</td>\n",
       "      <td>0</td>\n",
       "      <td>0</td>\n",
       "      <td>0</td>\n",
       "      <td>0</td>\n",
       "      <td>0</td>\n",
       "      <td>0</td>\n",
       "      <td>0</td>\n",
       "      <td>0</td>\n",
       "      <td>0</td>\n",
       "      <td>5</td>\n",
       "    </tr>\n",
       "    <tr>\n",
       "      <th>1</th>\n",
       "      <td>2590</td>\n",
       "      <td>56</td>\n",
       "      <td>2</td>\n",
       "      <td>212</td>\n",
       "      <td>-6</td>\n",
       "      <td>390</td>\n",
       "      <td>220</td>\n",
       "      <td>235</td>\n",
       "      <td>151</td>\n",
       "      <td>6225</td>\n",
       "      <td>...</td>\n",
       "      <td>0</td>\n",
       "      <td>0</td>\n",
       "      <td>0</td>\n",
       "      <td>0</td>\n",
       "      <td>0</td>\n",
       "      <td>0</td>\n",
       "      <td>0</td>\n",
       "      <td>0</td>\n",
       "      <td>0</td>\n",
       "      <td>5</td>\n",
       "    </tr>\n",
       "    <tr>\n",
       "      <th>2</th>\n",
       "      <td>2804</td>\n",
       "      <td>139</td>\n",
       "      <td>9</td>\n",
       "      <td>268</td>\n",
       "      <td>65</td>\n",
       "      <td>3180</td>\n",
       "      <td>234</td>\n",
       "      <td>238</td>\n",
       "      <td>135</td>\n",
       "      <td>6121</td>\n",
       "      <td>...</td>\n",
       "      <td>0</td>\n",
       "      <td>0</td>\n",
       "      <td>0</td>\n",
       "      <td>0</td>\n",
       "      <td>0</td>\n",
       "      <td>0</td>\n",
       "      <td>0</td>\n",
       "      <td>0</td>\n",
       "      <td>0</td>\n",
       "      <td>2</td>\n",
       "    </tr>\n",
       "    <tr>\n",
       "      <th>3</th>\n",
       "      <td>2785</td>\n",
       "      <td>155</td>\n",
       "      <td>18</td>\n",
       "      <td>242</td>\n",
       "      <td>118</td>\n",
       "      <td>3090</td>\n",
       "      <td>238</td>\n",
       "      <td>238</td>\n",
       "      <td>122</td>\n",
       "      <td>6211</td>\n",
       "      <td>...</td>\n",
       "      <td>0</td>\n",
       "      <td>0</td>\n",
       "      <td>0</td>\n",
       "      <td>0</td>\n",
       "      <td>0</td>\n",
       "      <td>0</td>\n",
       "      <td>0</td>\n",
       "      <td>0</td>\n",
       "      <td>0</td>\n",
       "      <td>2</td>\n",
       "    </tr>\n",
       "    <tr>\n",
       "      <th>4</th>\n",
       "      <td>2595</td>\n",
       "      <td>45</td>\n",
       "      <td>2</td>\n",
       "      <td>153</td>\n",
       "      <td>-1</td>\n",
       "      <td>391</td>\n",
       "      <td>220</td>\n",
       "      <td>234</td>\n",
       "      <td>150</td>\n",
       "      <td>6172</td>\n",
       "      <td>...</td>\n",
       "      <td>0</td>\n",
       "      <td>0</td>\n",
       "      <td>0</td>\n",
       "      <td>0</td>\n",
       "      <td>0</td>\n",
       "      <td>0</td>\n",
       "      <td>0</td>\n",
       "      <td>0</td>\n",
       "      <td>0</td>\n",
       "      <td>5</td>\n",
       "    </tr>\n",
       "  </tbody>\n",
       "</table>\n",
       "<p>5 rows × 55 columns</p>\n",
       "</div>"
      ],
      "text/plain": [
       "   elevation  aspect  slope  horizontal_distance_to_hydrology  \\\n",
       "0       2596      51      3                               258   \n",
       "1       2590      56      2                               212   \n",
       "2       2804     139      9                               268   \n",
       "3       2785     155     18                               242   \n",
       "4       2595      45      2                               153   \n",
       "\n",
       "   vertical_distance_to_hydrology  horizontal_distance_to_roadways  \\\n",
       "0                               0                              510   \n",
       "1                              -6                              390   \n",
       "2                              65                             3180   \n",
       "3                             118                             3090   \n",
       "4                              -1                              391   \n",
       "\n",
       "   hillshade_9am  hillshade_noon  hillshade_3pm  \\\n",
       "0            221             232            148   \n",
       "1            220             235            151   \n",
       "2            234             238            135   \n",
       "3            238             238            122   \n",
       "4            220             234            150   \n",
       "\n",
       "   horizontal_distance_to_fire_points     ...      soil_type_32  soil_type_33  \\\n",
       "0                                6279     ...                 0             0   \n",
       "1                                6225     ...                 0             0   \n",
       "2                                6121     ...                 0             0   \n",
       "3                                6211     ...                 0             0   \n",
       "4                                6172     ...                 0             0   \n",
       "\n",
       "   soil_type_34  soil_type_35  soil_type_36  soil_type_37  soil_type_38  \\\n",
       "0             0             0             0             0             0   \n",
       "1             0             0             0             0             0   \n",
       "2             0             0             0             0             0   \n",
       "3             0             0             0             0             0   \n",
       "4             0             0             0             0             0   \n",
       "\n",
       "   soil_type_39  soil_type_40  cover_type  \n",
       "0             0             0           5  \n",
       "1             0             0           5  \n",
       "2             0             0           2  \n",
       "3             0             0           2  \n",
       "4             0             0           5  \n",
       "\n",
       "[5 rows x 55 columns]"
      ]
     },
     "execution_count": 17,
     "metadata": {},
     "output_type": "execute_result"
    }
   ],
   "source": [
    "df.head()"
   ]
  },
  {
   "cell_type": "code",
   "execution_count": 19,
   "metadata": {},
   "outputs": [],
   "source": [
    "X=df.loc[:,'elevation':'soil_type_40']\n",
    "y=df['cover_type']"
   ]
  },
  {
   "cell_type": "code",
   "execution_count": 20,
   "metadata": {},
   "outputs": [],
   "source": [
    "X = X.fillna(method='ffill')\n",
    "y = y.fillna(method='ffill')"
   ]
  },
  {
   "cell_type": "code",
   "execution_count": 23,
   "metadata": {},
   "outputs": [],
   "source": [
    "from sklearn.neighbors import KNeighborsClassifier\n",
    "neigh = KNeighborsClassifier(n_neighbors=5)"
   ]
  },
  {
   "cell_type": "code",
   "execution_count": 26,
   "metadata": {},
   "outputs": [
    {
     "name": "stdout",
     "output_type": "stream",
     "text": [
      "K Fold Validation Accuracy is  0.8016822371999202\n"
     ]
    }
   ],
   "source": [
    "import time\n",
    "from sklearn.metrics import accuracy_score\n",
    "neigh.fit(X,y)\n",
    "kFoldStart = time.time()\n",
    "y_pred = cross_val_predict(neigh, X, y, cv = 200)\n",
    "kFoldEnd = time.time()\n",
    "kFoldTime = kFoldEnd - kFoldStart\n",
    "print(\"K Fold Validation Accuracy is \", accuracy_score(y, y_pred))"
   ]
  },
  {
   "cell_type": "code",
   "execution_count": 27,
   "metadata": {},
   "outputs": [
    {
     "name": "stdout",
     "output_type": "stream",
     "text": [
      "899.5259807109833\n"
     ]
    }
   ],
   "source": [
    "print(kFoldTime)"
   ]
  },
  {
   "cell_type": "code",
   "execution_count": 28,
   "metadata": {},
   "outputs": [],
   "source": [
    "X_train, X_test, y_train, y_test = train_test_split(X,y, test_size=0.3, random_state=101)\n",
    "X_train = X_train.fillna(method='ffill')\n",
    "y_train = y_train.fillna(method='ffill')"
   ]
  },
  {
   "cell_type": "code",
   "execution_count": 29,
   "metadata": {},
   "outputs": [
    {
     "name": "stdout",
     "output_type": "stream",
     "text": [
      "Hold Out Validation takes  19.435256004333496  seconds\n",
      "0.9661281439324398\n"
     ]
    }
   ],
   "source": [
    "neigh.fit(X_train, y_train)\n",
    "holdOutStart = time.time()\n",
    "holdOutPredictions = neigh.predict(X_test)\n",
    "holdOutEnd = time.time()\n",
    "holdOutTime = holdOutEnd - holdOutStart\n",
    "print(\"Hold Out Validation takes \", holdOutTime, \" seconds\")\n",
    "print(accuracy_score(y_test, holdOutPredictions))"
   ]
  },
  {
   "cell_type": "code",
   "execution_count": null,
   "metadata": {},
   "outputs": [],
   "source": []
  }
 ],
 "metadata": {
  "colab": {
   "name": "Project-21.ipynb",
   "provenance": []
  },
  "kernelspec": {
   "display_name": "Python 3",
   "language": "python",
   "name": "python3"
  },
  "language_info": {
   "codemirror_mode": {
    "name": "ipython",
    "version": 3
   },
   "file_extension": ".py",
   "mimetype": "text/x-python",
   "name": "python",
   "nbconvert_exporter": "python",
   "pygments_lexer": "ipython3",
   "version": "3.7.1"
  }
 },
 "nbformat": 4,
 "nbformat_minor": 1
}
