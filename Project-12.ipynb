{
 "cells": [
  {
   "cell_type": "markdown",
   "metadata": {},
   "source": [
    "# CREDIT CARD FRAUD DETECTION"
   ]
  },
  {
   "cell_type": "code",
   "execution_count": 1,
   "metadata": {},
   "outputs": [],
   "source": [
    "import numpy as np\n",
    "import pandas as pd\n",
    "import matplotlib.pyplot as plt\n",
    "import seaborn as sns"
   ]
  },
  {
   "cell_type": "code",
   "execution_count": 2,
   "metadata": {},
   "outputs": [],
   "source": [
    "from sklearn.decomposition import PCA"
   ]
  },
  {
   "cell_type": "code",
   "execution_count": 3,
   "metadata": {},
   "outputs": [],
   "source": [
    "from sklearn.preprocessing import StandardScaler"
   ]
  },
  {
   "cell_type": "code",
   "execution_count": 4,
   "metadata": {},
   "outputs": [],
   "source": [
    "import warnings\n",
    "warnings.filterwarnings('ignore')"
   ]
  },
  {
   "cell_type": "markdown",
   "metadata": {},
   "source": [
    "## Data Set Description"
   ]
  },
  {
   "cell_type": "code",
   "execution_count": 5,
   "metadata": {},
   "outputs": [],
   "source": [
    "data = pd.read_csv(\"Downloads/creditcard.csv\")"
   ]
  },
  {
   "cell_type": "code",
   "execution_count": 6,
   "metadata": {},
   "outputs": [],
   "source": [
    "# assigning column name as 1,2,3,...,31 for ease of reference\n",
    "data.columns = ['Time', 'V1', 'V2', 'V3', 'V4', 'V5', 'V6', 'V7', 'V8', 'V9', 'V10',\n",
    "       'V11', 'V12', 'V13', 'V14', 'V15', 'V16', 'V17', 'V18', 'V19', 'V20',\n",
    "       'V21', 'V22', 'V23', 'V24', 'V25', 'V26', 'V27', 'V28', 'Amount',\n",
    "       'Class']"
   ]
  },
  {
   "cell_type": "code",
   "execution_count": 7,
   "metadata": {},
   "outputs": [
    {
     "data": {
      "text/html": [
       "<div>\n",
       "<style scoped>\n",
       "    .dataframe tbody tr th:only-of-type {\n",
       "        vertical-align: middle;\n",
       "    }\n",
       "\n",
       "    .dataframe tbody tr th {\n",
       "        vertical-align: top;\n",
       "    }\n",
       "\n",
       "    .dataframe thead th {\n",
       "        text-align: right;\n",
       "    }\n",
       "</style>\n",
       "<table border=\"1\" class=\"dataframe\">\n",
       "  <thead>\n",
       "    <tr style=\"text-align: right;\">\n",
       "      <th></th>\n",
       "      <th>Time</th>\n",
       "      <th>V1</th>\n",
       "      <th>V2</th>\n",
       "      <th>V3</th>\n",
       "      <th>V4</th>\n",
       "      <th>V5</th>\n",
       "      <th>V6</th>\n",
       "      <th>V7</th>\n",
       "      <th>V8</th>\n",
       "      <th>V9</th>\n",
       "      <th>...</th>\n",
       "      <th>V21</th>\n",
       "      <th>V22</th>\n",
       "      <th>V23</th>\n",
       "      <th>V24</th>\n",
       "      <th>V25</th>\n",
       "      <th>V26</th>\n",
       "      <th>V27</th>\n",
       "      <th>V28</th>\n",
       "      <th>Amount</th>\n",
       "      <th>Class</th>\n",
       "    </tr>\n",
       "  </thead>\n",
       "  <tbody>\n",
       "    <tr>\n",
       "      <th>657</th>\n",
       "      <td>497</td>\n",
       "      <td>-0.417836</td>\n",
       "      <td>0.981103</td>\n",
       "      <td>1.135820</td>\n",
       "      <td>-0.172593</td>\n",
       "      <td>0.396675</td>\n",
       "      <td>-0.002842</td>\n",
       "      <td>0.519780</td>\n",
       "      <td>0.248763</td>\n",
       "      <td>-0.593497</td>\n",
       "      <td>...</td>\n",
       "      <td>-0.205580</td>\n",
       "      <td>-0.547474</td>\n",
       "      <td>-0.020486</td>\n",
       "      <td>-0.368187</td>\n",
       "      <td>-0.227053</td>\n",
       "      <td>0.105281</td>\n",
       "      <td>0.253800</td>\n",
       "      <td>0.081276</td>\n",
       "      <td>8.83</td>\n",
       "      <td>0</td>\n",
       "    </tr>\n",
       "    <tr>\n",
       "      <th>658</th>\n",
       "      <td>498</td>\n",
       "      <td>-0.753769</td>\n",
       "      <td>1.098287</td>\n",
       "      <td>1.835453</td>\n",
       "      <td>0.614571</td>\n",
       "      <td>-0.317859</td>\n",
       "      <td>-0.101055</td>\n",
       "      <td>0.039454</td>\n",
       "      <td>-0.656824</td>\n",
       "      <td>-0.048761</td>\n",
       "      <td>...</td>\n",
       "      <td>1.101142</td>\n",
       "      <td>0.686059</td>\n",
       "      <td>0.005954</td>\n",
       "      <td>0.361744</td>\n",
       "      <td>-0.457852</td>\n",
       "      <td>-0.352576</td>\n",
       "      <td>0.094602</td>\n",
       "      <td>0.170480</td>\n",
       "      <td>5.00</td>\n",
       "      <td>0</td>\n",
       "    </tr>\n",
       "    <tr>\n",
       "      <th>659</th>\n",
       "      <td>499</td>\n",
       "      <td>1.255439</td>\n",
       "      <td>0.307729</td>\n",
       "      <td>0.292700</td>\n",
       "      <td>0.699873</td>\n",
       "      <td>-0.428876</td>\n",
       "      <td>-1.088456</td>\n",
       "      <td>0.043840</td>\n",
       "      <td>-0.167739</td>\n",
       "      <td>0.128854</td>\n",
       "      <td>...</td>\n",
       "      <td>-0.294795</td>\n",
       "      <td>-0.882126</td>\n",
       "      <td>0.136846</td>\n",
       "      <td>0.327949</td>\n",
       "      <td>0.194459</td>\n",
       "      <td>0.096516</td>\n",
       "      <td>-0.027271</td>\n",
       "      <td>0.029491</td>\n",
       "      <td>1.98</td>\n",
       "      <td>0</td>\n",
       "    </tr>\n",
       "    <tr>\n",
       "      <th>660</th>\n",
       "      <td>499</td>\n",
       "      <td>1.355790</td>\n",
       "      <td>-1.122921</td>\n",
       "      <td>1.191187</td>\n",
       "      <td>-0.576548</td>\n",
       "      <td>-1.708750</td>\n",
       "      <td>0.274721</td>\n",
       "      <td>-1.640785</td>\n",
       "      <td>0.295838</td>\n",
       "      <td>0.618649</td>\n",
       "      <td>...</td>\n",
       "      <td>0.302035</td>\n",
       "      <td>0.920013</td>\n",
       "      <td>-0.210219</td>\n",
       "      <td>-0.435499</td>\n",
       "      <td>0.450803</td>\n",
       "      <td>0.068454</td>\n",
       "      <td>0.062214</td>\n",
       "      <td>0.022191</td>\n",
       "      <td>22.83</td>\n",
       "      <td>0</td>\n",
       "    </tr>\n",
       "    <tr>\n",
       "      <th>661</th>\n",
       "      <td>499</td>\n",
       "      <td>-0.860626</td>\n",
       "      <td>-0.109137</td>\n",
       "      <td>2.112474</td>\n",
       "      <td>-1.400567</td>\n",
       "      <td>0.180269</td>\n",
       "      <td>1.329656</td>\n",
       "      <td>0.431001</td>\n",
       "      <td>0.317761</td>\n",
       "      <td>0.593762</td>\n",
       "      <td>...</td>\n",
       "      <td>-0.197635</td>\n",
       "      <td>-0.436535</td>\n",
       "      <td>-0.194840</td>\n",
       "      <td>-1.236873</td>\n",
       "      <td>0.218668</td>\n",
       "      <td>0.902383</td>\n",
       "      <td>-0.210195</td>\n",
       "      <td>-0.190458</td>\n",
       "      <td>92.82</td>\n",
       "      <td>0</td>\n",
       "    </tr>\n",
       "  </tbody>\n",
       "</table>\n",
       "<p>5 rows × 31 columns</p>\n",
       "</div>"
      ],
      "text/plain": [
       "     Time        V1        V2        V3        V4        V5        V6  \\\n",
       "657   497 -0.417836  0.981103  1.135820 -0.172593  0.396675 -0.002842   \n",
       "658   498 -0.753769  1.098287  1.835453  0.614571 -0.317859 -0.101055   \n",
       "659   499  1.255439  0.307729  0.292700  0.699873 -0.428876 -1.088456   \n",
       "660   499  1.355790 -1.122921  1.191187 -0.576548 -1.708750  0.274721   \n",
       "661   499 -0.860626 -0.109137  2.112474 -1.400567  0.180269  1.329656   \n",
       "\n",
       "           V7        V8        V9  ...         V21       V22       V23  \\\n",
       "657  0.519780  0.248763 -0.593497  ...   -0.205580 -0.547474 -0.020486   \n",
       "658  0.039454 -0.656824 -0.048761  ...    1.101142  0.686059  0.005954   \n",
       "659  0.043840 -0.167739  0.128854  ...   -0.294795 -0.882126  0.136846   \n",
       "660 -1.640785  0.295838  0.618649  ...    0.302035  0.920013 -0.210219   \n",
       "661  0.431001  0.317761  0.593762  ...   -0.197635 -0.436535 -0.194840   \n",
       "\n",
       "          V24       V25       V26       V27       V28  Amount  Class  \n",
       "657 -0.368187 -0.227053  0.105281  0.253800  0.081276    8.83      0  \n",
       "658  0.361744 -0.457852 -0.352576  0.094602  0.170480    5.00      0  \n",
       "659  0.327949  0.194459  0.096516 -0.027271  0.029491    1.98      0  \n",
       "660 -0.435499  0.450803  0.068454  0.062214  0.022191   22.83      0  \n",
       "661 -1.236873  0.218668  0.902383 -0.210195 -0.190458   92.82      0  \n",
       "\n",
       "[5 rows x 31 columns]"
      ]
     },
     "execution_count": 7,
     "metadata": {},
     "output_type": "execute_result"
    }
   ],
   "source": [
    "data.tail()"
   ]
  },
  {
   "cell_type": "code",
   "execution_count": 8,
   "metadata": {},
   "outputs": [
    {
     "data": {
      "text/plain": [
       "(662, 31)"
      ]
     },
     "execution_count": 8,
     "metadata": {},
     "output_type": "execute_result"
    }
   ],
   "source": [
    "data.shape"
   ]
  },
  {
   "cell_type": "code",
   "execution_count": 9,
   "metadata": {
    "scrolled": true
   },
   "outputs": [
    {
     "data": {
      "text/html": [
       "<div>\n",
       "<style scoped>\n",
       "    .dataframe tbody tr th:only-of-type {\n",
       "        vertical-align: middle;\n",
       "    }\n",
       "\n",
       "    .dataframe tbody tr th {\n",
       "        vertical-align: top;\n",
       "    }\n",
       "\n",
       "    .dataframe thead th {\n",
       "        text-align: right;\n",
       "    }\n",
       "</style>\n",
       "<table border=\"1\" class=\"dataframe\">\n",
       "  <thead>\n",
       "    <tr style=\"text-align: right;\">\n",
       "      <th></th>\n",
       "      <th>Time</th>\n",
       "      <th>V1</th>\n",
       "      <th>V2</th>\n",
       "      <th>V3</th>\n",
       "      <th>V4</th>\n",
       "      <th>V5</th>\n",
       "      <th>V6</th>\n",
       "      <th>V7</th>\n",
       "      <th>V8</th>\n",
       "      <th>V9</th>\n",
       "      <th>...</th>\n",
       "      <th>V21</th>\n",
       "      <th>V22</th>\n",
       "      <th>V23</th>\n",
       "      <th>V24</th>\n",
       "      <th>V25</th>\n",
       "      <th>V26</th>\n",
       "      <th>V27</th>\n",
       "      <th>V28</th>\n",
       "      <th>Amount</th>\n",
       "      <th>Class</th>\n",
       "    </tr>\n",
       "  </thead>\n",
       "  <tbody>\n",
       "    <tr>\n",
       "      <th>0</th>\n",
       "      <td>0</td>\n",
       "      <td>1.191857</td>\n",
       "      <td>0.266151</td>\n",
       "      <td>0.166480</td>\n",
       "      <td>0.448154</td>\n",
       "      <td>0.060018</td>\n",
       "      <td>-0.082361</td>\n",
       "      <td>-0.078803</td>\n",
       "      <td>0.085102</td>\n",
       "      <td>-0.255425</td>\n",
       "      <td>...</td>\n",
       "      <td>-0.225775</td>\n",
       "      <td>-0.638672</td>\n",
       "      <td>0.101288</td>\n",
       "      <td>-0.339846</td>\n",
       "      <td>0.167170</td>\n",
       "      <td>0.125895</td>\n",
       "      <td>-0.008983</td>\n",
       "      <td>0.014724</td>\n",
       "      <td>2.69</td>\n",
       "      <td>0</td>\n",
       "    </tr>\n",
       "    <tr>\n",
       "      <th>1</th>\n",
       "      <td>1</td>\n",
       "      <td>-1.358354</td>\n",
       "      <td>-1.340163</td>\n",
       "      <td>1.773209</td>\n",
       "      <td>0.379780</td>\n",
       "      <td>-0.503198</td>\n",
       "      <td>1.800499</td>\n",
       "      <td>0.791461</td>\n",
       "      <td>0.247676</td>\n",
       "      <td>-1.514654</td>\n",
       "      <td>...</td>\n",
       "      <td>0.247998</td>\n",
       "      <td>0.771679</td>\n",
       "      <td>0.909412</td>\n",
       "      <td>-0.689281</td>\n",
       "      <td>-0.327642</td>\n",
       "      <td>-0.139097</td>\n",
       "      <td>-0.055353</td>\n",
       "      <td>-0.059752</td>\n",
       "      <td>378.66</td>\n",
       "      <td>0</td>\n",
       "    </tr>\n",
       "    <tr>\n",
       "      <th>2</th>\n",
       "      <td>1</td>\n",
       "      <td>-0.966272</td>\n",
       "      <td>-0.185226</td>\n",
       "      <td>1.792993</td>\n",
       "      <td>-0.863291</td>\n",
       "      <td>-0.010309</td>\n",
       "      <td>1.247203</td>\n",
       "      <td>0.237609</td>\n",
       "      <td>0.377436</td>\n",
       "      <td>-1.387024</td>\n",
       "      <td>...</td>\n",
       "      <td>-0.108300</td>\n",
       "      <td>0.005274</td>\n",
       "      <td>-0.190321</td>\n",
       "      <td>-1.175575</td>\n",
       "      <td>0.647376</td>\n",
       "      <td>-0.221929</td>\n",
       "      <td>0.062723</td>\n",
       "      <td>0.061458</td>\n",
       "      <td>123.50</td>\n",
       "      <td>0</td>\n",
       "    </tr>\n",
       "    <tr>\n",
       "      <th>3</th>\n",
       "      <td>2</td>\n",
       "      <td>-1.158233</td>\n",
       "      <td>0.877737</td>\n",
       "      <td>1.548718</td>\n",
       "      <td>0.403034</td>\n",
       "      <td>-0.407193</td>\n",
       "      <td>0.095921</td>\n",
       "      <td>0.592941</td>\n",
       "      <td>-0.270533</td>\n",
       "      <td>0.817739</td>\n",
       "      <td>...</td>\n",
       "      <td>-0.009431</td>\n",
       "      <td>0.798278</td>\n",
       "      <td>-0.137458</td>\n",
       "      <td>0.141267</td>\n",
       "      <td>-0.206010</td>\n",
       "      <td>0.502292</td>\n",
       "      <td>0.219422</td>\n",
       "      <td>0.215153</td>\n",
       "      <td>69.99</td>\n",
       "      <td>0</td>\n",
       "    </tr>\n",
       "    <tr>\n",
       "      <th>4</th>\n",
       "      <td>2</td>\n",
       "      <td>-0.425966</td>\n",
       "      <td>0.960523</td>\n",
       "      <td>1.141109</td>\n",
       "      <td>-0.168252</td>\n",
       "      <td>0.420987</td>\n",
       "      <td>-0.029728</td>\n",
       "      <td>0.476201</td>\n",
       "      <td>0.260314</td>\n",
       "      <td>-0.568671</td>\n",
       "      <td>...</td>\n",
       "      <td>-0.208254</td>\n",
       "      <td>-0.559825</td>\n",
       "      <td>-0.026398</td>\n",
       "      <td>-0.371427</td>\n",
       "      <td>-0.232794</td>\n",
       "      <td>0.105915</td>\n",
       "      <td>0.253844</td>\n",
       "      <td>0.081080</td>\n",
       "      <td>3.67</td>\n",
       "      <td>0</td>\n",
       "    </tr>\n",
       "  </tbody>\n",
       "</table>\n",
       "<p>5 rows × 31 columns</p>\n",
       "</div>"
      ],
      "text/plain": [
       "   Time        V1        V2        V3        V4        V5        V6        V7  \\\n",
       "0     0  1.191857  0.266151  0.166480  0.448154  0.060018 -0.082361 -0.078803   \n",
       "1     1 -1.358354 -1.340163  1.773209  0.379780 -0.503198  1.800499  0.791461   \n",
       "2     1 -0.966272 -0.185226  1.792993 -0.863291 -0.010309  1.247203  0.237609   \n",
       "3     2 -1.158233  0.877737  1.548718  0.403034 -0.407193  0.095921  0.592941   \n",
       "4     2 -0.425966  0.960523  1.141109 -0.168252  0.420987 -0.029728  0.476201   \n",
       "\n",
       "         V8        V9  ...         V21       V22       V23       V24  \\\n",
       "0  0.085102 -0.255425  ...   -0.225775 -0.638672  0.101288 -0.339846   \n",
       "1  0.247676 -1.514654  ...    0.247998  0.771679  0.909412 -0.689281   \n",
       "2  0.377436 -1.387024  ...   -0.108300  0.005274 -0.190321 -1.175575   \n",
       "3 -0.270533  0.817739  ...   -0.009431  0.798278 -0.137458  0.141267   \n",
       "4  0.260314 -0.568671  ...   -0.208254 -0.559825 -0.026398 -0.371427   \n",
       "\n",
       "        V25       V26       V27       V28  Amount  Class  \n",
       "0  0.167170  0.125895 -0.008983  0.014724    2.69      0  \n",
       "1 -0.327642 -0.139097 -0.055353 -0.059752  378.66      0  \n",
       "2  0.647376 -0.221929  0.062723  0.061458  123.50      0  \n",
       "3 -0.206010  0.502292  0.219422  0.215153   69.99      0  \n",
       "4 -0.232794  0.105915  0.253844  0.081080    3.67      0  \n",
       "\n",
       "[5 rows x 31 columns]"
      ]
     },
     "execution_count": 9,
     "metadata": {},
     "output_type": "execute_result"
    }
   ],
   "source": [
    "data.head()"
   ]
  },
  {
   "cell_type": "code",
   "execution_count": 10,
   "metadata": {},
   "outputs": [
    {
     "name": "stdout",
     "output_type": "stream",
     "text": [
      "<class 'pandas.core.frame.DataFrame'>\n",
      "RangeIndex: 662 entries, 0 to 661\n",
      "Data columns (total 31 columns):\n",
      "Time      662 non-null int64\n",
      "V1        662 non-null float64\n",
      "V2        662 non-null float64\n",
      "V3        662 non-null float64\n",
      "V4        662 non-null float64\n",
      "V5        662 non-null float64\n",
      "V6        662 non-null float64\n",
      "V7        662 non-null float64\n",
      "V8        662 non-null float64\n",
      "V9        662 non-null float64\n",
      "V10       662 non-null float64\n",
      "V11       662 non-null float64\n",
      "V12       662 non-null float64\n",
      "V13       662 non-null float64\n",
      "V14       662 non-null float64\n",
      "V15       662 non-null float64\n",
      "V16       662 non-null float64\n",
      "V17       662 non-null float64\n",
      "V18       662 non-null float64\n",
      "V19       662 non-null float64\n",
      "V20       662 non-null float64\n",
      "V21       662 non-null float64\n",
      "V22       662 non-null float64\n",
      "V23       662 non-null float64\n",
      "V24       662 non-null float64\n",
      "V25       662 non-null float64\n",
      "V26       662 non-null float64\n",
      "V27       662 non-null float64\n",
      "V28       662 non-null float64\n",
      "Amount    662 non-null float64\n",
      "Class     662 non-null int64\n",
      "dtypes: float64(29), int64(2)\n",
      "memory usage: 160.4 KB\n"
     ]
    }
   ],
   "source": [
    "# quick view of data-types & non-null values\n",
    "data.info()"
   ]
  },
  {
   "cell_type": "code",
   "execution_count": 11,
   "metadata": {},
   "outputs": [
    {
     "name": "stdout",
     "output_type": "stream",
     "text": [
      "355 , 655 , 655 , 655 , 655 , 655 , 655 , 655 , 655 , 655 , 655 , 655 , 655 , 655 , 655 , 655 , 655 , 655 , 655 , 655 , 655 , 655 , 655 , 655 , 655 , 655 , 655 , 655 , 655 , 462 , 2 , "
     ]
    }
   ],
   "source": [
    "# checking numbers of unique value in each columns\n",
    "for col in data.columns:\n",
    "    print(len(np.unique(data[col])),end =' , ')"
   ]
  },
  {
   "cell_type": "code",
   "execution_count": 12,
   "metadata": {},
   "outputs": [
    {
     "data": {
      "text/html": [
       "<div>\n",
       "<style scoped>\n",
       "    .dataframe tbody tr th:only-of-type {\n",
       "        vertical-align: middle;\n",
       "    }\n",
       "\n",
       "    .dataframe tbody tr th {\n",
       "        vertical-align: top;\n",
       "    }\n",
       "\n",
       "    .dataframe thead th {\n",
       "        text-align: right;\n",
       "    }\n",
       "</style>\n",
       "<table border=\"1\" class=\"dataframe\">\n",
       "  <thead>\n",
       "    <tr style=\"text-align: right;\">\n",
       "      <th>col_0</th>\n",
       "      <th>Count</th>\n",
       "    </tr>\n",
       "    <tr>\n",
       "      <th>Class</th>\n",
       "      <th></th>\n",
       "    </tr>\n",
       "  </thead>\n",
       "  <tbody>\n",
       "    <tr>\n",
       "      <th>0</th>\n",
       "      <td>0.960725</td>\n",
       "    </tr>\n",
       "    <tr>\n",
       "      <th>1</th>\n",
       "      <td>0.039275</td>\n",
       "    </tr>\n",
       "  </tbody>\n",
       "</table>\n",
       "</div>"
      ],
      "text/plain": [
       "col_0     Count\n",
       "Class          \n",
       "0      0.960725\n",
       "1      0.039275"
      ]
     },
     "execution_count": 12,
     "metadata": {},
     "output_type": "execute_result"
    }
   ],
   "source": [
    "pd.crosstab(index=data['Class'],columns='Count',normalize=True)"
   ]
  },
  {
   "cell_type": "markdown",
   "metadata": {},
   "source": [
    "approx 96.1% of the total transction are not fraud"
   ]
  },
  {
   "cell_type": "code",
   "execution_count": 13,
   "metadata": {},
   "outputs": [
    {
     "data": {
      "text/plain": [
       "<matplotlib.axes._subplots.AxesSubplot at 0x7fb9e3e11898>"
      ]
     },
     "execution_count": 13,
     "metadata": {},
     "output_type": "execute_result"
    },
    {
     "data": {
      "image/png": "[encoded data removed]",
      "text/plain": [
       "<Figure size 864x864 with 2 Axes>"
      ]
     },
     "metadata": {
      "needs_background": "light"
     },
     "output_type": "display_data"
    }
   ],
   "source": [
    "ccd_corr = data.corr()\n",
    "plt.figure(figsize=(12,12))\n",
    "sns.heatmap(ccd_corr,annot=False)"
   ]
  },
  {
   "cell_type": "code",
   "execution_count": 14,
   "metadata": {},
   "outputs": [
    {
     "data": {
      "text/html": [
       "<div>\n",
       "<style scoped>\n",
       "    .dataframe tbody tr th:only-of-type {\n",
       "        vertical-align: middle;\n",
       "    }\n",
       "\n",
       "    .dataframe tbody tr th {\n",
       "        vertical-align: top;\n",
       "    }\n",
       "\n",
       "    .dataframe thead th {\n",
       "        text-align: right;\n",
       "    }\n",
       "</style>\n",
       "<table border=\"1\" class=\"dataframe\">\n",
       "  <thead>\n",
       "    <tr style=\"text-align: right;\">\n",
       "      <th></th>\n",
       "      <th>Time</th>\n",
       "      <th>V1</th>\n",
       "      <th>V2</th>\n",
       "      <th>V3</th>\n",
       "      <th>V4</th>\n",
       "      <th>V5</th>\n",
       "      <th>V6</th>\n",
       "      <th>V7</th>\n",
       "      <th>V8</th>\n",
       "      <th>V9</th>\n",
       "      <th>...</th>\n",
       "      <th>V21</th>\n",
       "      <th>V22</th>\n",
       "      <th>V23</th>\n",
       "      <th>V24</th>\n",
       "      <th>V25</th>\n",
       "      <th>V26</th>\n",
       "      <th>V27</th>\n",
       "      <th>V28</th>\n",
       "      <th>Amount</th>\n",
       "      <th>Class</th>\n",
       "    </tr>\n",
       "  </thead>\n",
       "  <tbody>\n",
       "    <tr>\n",
       "      <th>count</th>\n",
       "      <td>662.000000</td>\n",
       "      <td>662.000000</td>\n",
       "      <td>662.000000</td>\n",
       "      <td>662.000000</td>\n",
       "      <td>662.000000</td>\n",
       "      <td>662.000000</td>\n",
       "      <td>662.000000</td>\n",
       "      <td>662.000000</td>\n",
       "      <td>662.000000</td>\n",
       "      <td>662.000000</td>\n",
       "      <td>...</td>\n",
       "      <td>662.000000</td>\n",
       "      <td>662.000000</td>\n",
       "      <td>662.000000</td>\n",
       "      <td>662.000000</td>\n",
       "      <td>662.000000</td>\n",
       "      <td>662.000000</td>\n",
       "      <td>662.000000</td>\n",
       "      <td>662.000000</td>\n",
       "      <td>662.000000</td>\n",
       "      <td>662.000000</td>\n",
       "    </tr>\n",
       "    <tr>\n",
       "      <th>mean</th>\n",
       "      <td>241.087613</td>\n",
       "      <td>-0.171685</td>\n",
       "      <td>0.203339</td>\n",
       "      <td>0.865507</td>\n",
       "      <td>0.312177</td>\n",
       "      <td>0.005481</td>\n",
       "      <td>0.190657</td>\n",
       "      <td>0.119999</td>\n",
       "      <td>-0.058113</td>\n",
       "      <td>-0.022026</td>\n",
       "      <td>...</td>\n",
       "      <td>0.011604</td>\n",
       "      <td>-0.101897</td>\n",
       "      <td>-0.039030</td>\n",
       "      <td>-0.001231</td>\n",
       "      <td>0.118344</td>\n",
       "      <td>0.024121</td>\n",
       "      <td>0.026115</td>\n",
       "      <td>-0.015513</td>\n",
       "      <td>70.219940</td>\n",
       "      <td>0.039275</td>\n",
       "    </tr>\n",
       "    <tr>\n",
       "      <th>std</th>\n",
       "      <td>146.878674</td>\n",
       "      <td>1.318935</td>\n",
       "      <td>1.195939</td>\n",
       "      <td>1.016148</td>\n",
       "      <td>1.268311</td>\n",
       "      <td>1.131878</td>\n",
       "      <td>1.249667</td>\n",
       "      <td>0.861213</td>\n",
       "      <td>0.829037</td>\n",
       "      <td>0.898050</td>\n",
       "      <td>...</td>\n",
       "      <td>0.611495</td>\n",
       "      <td>0.609526</td>\n",
       "      <td>0.369470</td>\n",
       "      <td>0.628766</td>\n",
       "      <td>0.426891</td>\n",
       "      <td>0.468805</td>\n",
       "      <td>0.308407</td>\n",
       "      <td>0.291266</td>\n",
       "      <td>206.580833</td>\n",
       "      <td>0.194395</td>\n",
       "    </tr>\n",
       "    <tr>\n",
       "      <th>min</th>\n",
       "      <td>0.000000</td>\n",
       "      <td>-6.093248</td>\n",
       "      <td>-12.114213</td>\n",
       "      <td>-5.694973</td>\n",
       "      <td>-4.657545</td>\n",
       "      <td>-6.631951</td>\n",
       "      <td>-3.498447</td>\n",
       "      <td>-4.925568</td>\n",
       "      <td>-7.494658</td>\n",
       "      <td>-2.770089</td>\n",
       "      <td>...</td>\n",
       "      <td>-4.134608</td>\n",
       "      <td>-2.776923</td>\n",
       "      <td>-3.553381</td>\n",
       "      <td>-1.867208</td>\n",
       "      <td>-1.389079</td>\n",
       "      <td>-1.243924</td>\n",
       "      <td>-2.377933</td>\n",
       "      <td>-2.735623</td>\n",
       "      <td>0.000000</td>\n",
       "      <td>0.000000</td>\n",
       "    </tr>\n",
       "    <tr>\n",
       "      <th>25%</th>\n",
       "      <td>105.250000</td>\n",
       "      <td>-0.898800</td>\n",
       "      <td>-0.174281</td>\n",
       "      <td>0.311406</td>\n",
       "      <td>-0.436612</td>\n",
       "      <td>-0.553732</td>\n",
       "      <td>-0.614206</td>\n",
       "      <td>-0.325427</td>\n",
       "      <td>-0.158631</td>\n",
       "      <td>-0.517332</td>\n",
       "      <td>...</td>\n",
       "      <td>-0.219976</td>\n",
       "      <td>-0.528998</td>\n",
       "      <td>-0.172891</td>\n",
       "      <td>-0.384998</td>\n",
       "      <td>-0.160561</td>\n",
       "      <td>-0.313283</td>\n",
       "      <td>-0.045096</td>\n",
       "      <td>-0.015094</td>\n",
       "      <td>5.975000</td>\n",
       "      <td>0.000000</td>\n",
       "    </tr>\n",
       "    <tr>\n",
       "      <th>50%</th>\n",
       "      <td>241.500000</td>\n",
       "      <td>-0.373362</td>\n",
       "      <td>0.280917</td>\n",
       "      <td>0.894895</td>\n",
       "      <td>0.444094</td>\n",
       "      <td>-0.106432</td>\n",
       "      <td>-0.072322</td>\n",
       "      <td>0.116329</td>\n",
       "      <td>0.043828</td>\n",
       "      <td>-0.074044</td>\n",
       "      <td>...</td>\n",
       "      <td>-0.070155</td>\n",
       "      <td>-0.072565</td>\n",
       "      <td>-0.045317</td>\n",
       "      <td>0.093423</td>\n",
       "      <td>0.145592</td>\n",
       "      <td>-0.015632</td>\n",
       "      <td>0.022920</td>\n",
       "      <td>0.023137</td>\n",
       "      <td>17.240000</td>\n",
       "      <td>0.000000</td>\n",
       "    </tr>\n",
       "    <tr>\n",
       "      <th>75%</th>\n",
       "      <td>366.000000</td>\n",
       "      <td>1.109776</td>\n",
       "      <td>0.877703</td>\n",
       "      <td>1.505101</td>\n",
       "      <td>1.140394</td>\n",
       "      <td>0.469752</td>\n",
       "      <td>0.491334</td>\n",
       "      <td>0.567795</td>\n",
       "      <td>0.263080</td>\n",
       "      <td>0.415549</td>\n",
       "      <td>...</td>\n",
       "      <td>0.102520</td>\n",
       "      <td>0.312472</td>\n",
       "      <td>0.073996</td>\n",
       "      <td>0.429869</td>\n",
       "      <td>0.440540</td>\n",
       "      <td>0.264540</td>\n",
       "      <td>0.114210</td>\n",
       "      <td>0.088143</td>\n",
       "      <td>57.147500</td>\n",
       "      <td>0.000000</td>\n",
       "    </tr>\n",
       "    <tr>\n",
       "      <th>max</th>\n",
       "      <td>499.000000</td>\n",
       "      <td>1.586093</td>\n",
       "      <td>5.267376</td>\n",
       "      <td>3.772857</td>\n",
       "      <td>4.075817</td>\n",
       "      <td>7.672544</td>\n",
       "      <td>5.122103</td>\n",
       "      <td>4.808426</td>\n",
       "      <td>1.726413</td>\n",
       "      <td>5.459274</td>\n",
       "      <td>...</td>\n",
       "      <td>5.273420</td>\n",
       "      <td>1.461535</td>\n",
       "      <td>3.150413</td>\n",
       "      <td>1.215279</td>\n",
       "      <td>1.136720</td>\n",
       "      <td>3.065576</td>\n",
       "      <td>2.490503</td>\n",
       "      <td>1.575380</td>\n",
       "      <td>3828.040000</td>\n",
       "      <td>1.000000</td>\n",
       "    </tr>\n",
       "  </tbody>\n",
       "</table>\n",
       "<p>8 rows × 31 columns</p>\n",
       "</div>"
      ],
      "text/plain": [
       "             Time          V1          V2          V3          V4          V5  \\\n",
       "count  662.000000  662.000000  662.000000  662.000000  662.000000  662.000000   \n",
       "mean   241.087613   -0.171685    0.203339    0.865507    0.312177    0.005481   \n",
       "std    146.878674    1.318935    1.195939    1.016148    1.268311    1.131878   \n",
       "min      0.000000   -6.093248  -12.114213   -5.694973   -4.657545   -6.631951   \n",
       "25%    105.250000   -0.898800   -0.174281    0.311406   -0.436612   -0.553732   \n",
       "50%    241.500000   -0.373362    0.280917    0.894895    0.444094   -0.106432   \n",
       "75%    366.000000    1.109776    0.877703    1.505101    1.140394    0.469752   \n",
       "max    499.000000    1.586093    5.267376    3.772857    4.075817    7.672544   \n",
       "\n",
       "               V6          V7          V8          V9     ...             V21  \\\n",
       "count  662.000000  662.000000  662.000000  662.000000     ...      662.000000   \n",
       "mean     0.190657    0.119999   -0.058113   -0.022026     ...        0.011604   \n",
       "std      1.249667    0.861213    0.829037    0.898050     ...        0.611495   \n",
       "min     -3.498447   -4.925568   -7.494658   -2.770089     ...       -4.134608   \n",
       "25%     -0.614206   -0.325427   -0.158631   -0.517332     ...       -0.219976   \n",
       "50%     -0.072322    0.116329    0.043828   -0.074044     ...       -0.070155   \n",
       "75%      0.491334    0.567795    0.263080    0.415549     ...        0.102520   \n",
       "max      5.122103    4.808426    1.726413    5.459274     ...        5.273420   \n",
       "\n",
       "              V22         V23         V24         V25         V26         V27  \\\n",
       "count  662.000000  662.000000  662.000000  662.000000  662.000000  662.000000   \n",
       "mean    -0.101897   -0.039030   -0.001231    0.118344    0.024121    0.026115   \n",
       "std      0.609526    0.369470    0.628766    0.426891    0.468805    0.308407   \n",
       "min     -2.776923   -3.553381   -1.867208   -1.389079   -1.243924   -2.377933   \n",
       "25%     -0.528998   -0.172891   -0.384998   -0.160561   -0.313283   -0.045096   \n",
       "50%     -0.072565   -0.045317    0.093423    0.145592   -0.015632    0.022920   \n",
       "75%      0.312472    0.073996    0.429869    0.440540    0.264540    0.114210   \n",
       "max      1.461535    3.150413    1.215279    1.136720    3.065576    2.490503   \n",
       "\n",
       "              V28       Amount       Class  \n",
       "count  662.000000   662.000000  662.000000  \n",
       "mean    -0.015513    70.219940    0.039275  \n",
       "std      0.291266   206.580833    0.194395  \n",
       "min     -2.735623     0.000000    0.000000  \n",
       "25%     -0.015094     5.975000    0.000000  \n",
       "50%      0.023137    17.240000    0.000000  \n",
       "75%      0.088143    57.147500    0.000000  \n",
       "max      1.575380  3828.040000    1.000000  \n",
       "\n",
       "[8 rows x 31 columns]"
      ]
     },
     "execution_count": 14,
     "metadata": {},
     "output_type": "execute_result"
    }
   ],
   "source": [
    "data.describe()"
   ]
  },
  {
   "cell_type": "markdown",
   "metadata": {},
   "source": [
    "as last two block clearly shows the wide scale difference between various features \n",
    "we need to **scale** the ferures between 0-1"
   ]
  },
  {
   "cell_type": "code",
   "execution_count": 15,
   "metadata": {},
   "outputs": [],
   "source": [
    "scaler = StandardScaler()"
   ]
  },
  {
   "cell_type": "code",
   "execution_count": 16,
   "metadata": {},
   "outputs": [],
   "source": [
    "data['Amount'] = scaler.fit_transform(data['Amount'].values.reshape(-1, 1))\n",
    "data['Time'] = scaler.fit_transform(data['Time'].values.reshape(-1, 1))"
   ]
  },
  {
   "cell_type": "code",
   "execution_count": 17,
   "metadata": {},
   "outputs": [
    {
     "data": {
      "text/html": [
       "<div>\n",
       "<style scoped>\n",
       "    .dataframe tbody tr th:only-of-type {\n",
       "        vertical-align: middle;\n",
       "    }\n",
       "\n",
       "    .dataframe tbody tr th {\n",
       "        vertical-align: top;\n",
       "    }\n",
       "\n",
       "    .dataframe thead th {\n",
       "        text-align: right;\n",
       "    }\n",
       "</style>\n",
       "<table border=\"1\" class=\"dataframe\">\n",
       "  <thead>\n",
       "    <tr style=\"text-align: right;\">\n",
       "      <th></th>\n",
       "      <th>Time</th>\n",
       "      <th>V1</th>\n",
       "      <th>V2</th>\n",
       "      <th>V3</th>\n",
       "      <th>V4</th>\n",
       "      <th>V5</th>\n",
       "      <th>V6</th>\n",
       "      <th>V7</th>\n",
       "      <th>V8</th>\n",
       "      <th>V9</th>\n",
       "      <th>...</th>\n",
       "      <th>V21</th>\n",
       "      <th>V22</th>\n",
       "      <th>V23</th>\n",
       "      <th>V24</th>\n",
       "      <th>V25</th>\n",
       "      <th>V26</th>\n",
       "      <th>V27</th>\n",
       "      <th>V28</th>\n",
       "      <th>Amount</th>\n",
       "      <th>Class</th>\n",
       "    </tr>\n",
       "  </thead>\n",
       "  <tbody>\n",
       "    <tr>\n",
       "      <th>0</th>\n",
       "      <td>-1.642648</td>\n",
       "      <td>1.191857</td>\n",
       "      <td>0.266151</td>\n",
       "      <td>0.166480</td>\n",
       "      <td>0.448154</td>\n",
       "      <td>0.060018</td>\n",
       "      <td>-0.082361</td>\n",
       "      <td>-0.078803</td>\n",
       "      <td>0.085102</td>\n",
       "      <td>-0.255425</td>\n",
       "      <td>...</td>\n",
       "      <td>-0.225775</td>\n",
       "      <td>-0.638672</td>\n",
       "      <td>0.101288</td>\n",
       "      <td>-0.339846</td>\n",
       "      <td>0.167170</td>\n",
       "      <td>0.125895</td>\n",
       "      <td>-0.008983</td>\n",
       "      <td>0.014724</td>\n",
       "      <td>-0.327141</td>\n",
       "      <td>0</td>\n",
       "    </tr>\n",
       "    <tr>\n",
       "      <th>1</th>\n",
       "      <td>-1.635834</td>\n",
       "      <td>-1.358354</td>\n",
       "      <td>-1.340163</td>\n",
       "      <td>1.773209</td>\n",
       "      <td>0.379780</td>\n",
       "      <td>-0.503198</td>\n",
       "      <td>1.800499</td>\n",
       "      <td>0.791461</td>\n",
       "      <td>0.247676</td>\n",
       "      <td>-1.514654</td>\n",
       "      <td>...</td>\n",
       "      <td>0.247998</td>\n",
       "      <td>0.771679</td>\n",
       "      <td>0.909412</td>\n",
       "      <td>-0.689281</td>\n",
       "      <td>-0.327642</td>\n",
       "      <td>-0.139097</td>\n",
       "      <td>-0.055353</td>\n",
       "      <td>-0.059752</td>\n",
       "      <td>1.494201</td>\n",
       "      <td>0</td>\n",
       "    </tr>\n",
       "    <tr>\n",
       "      <th>2</th>\n",
       "      <td>-1.635834</td>\n",
       "      <td>-0.966272</td>\n",
       "      <td>-0.185226</td>\n",
       "      <td>1.792993</td>\n",
       "      <td>-0.863291</td>\n",
       "      <td>-0.010309</td>\n",
       "      <td>1.247203</td>\n",
       "      <td>0.237609</td>\n",
       "      <td>0.377436</td>\n",
       "      <td>-1.387024</td>\n",
       "      <td>...</td>\n",
       "      <td>-0.108300</td>\n",
       "      <td>0.005274</td>\n",
       "      <td>-0.190321</td>\n",
       "      <td>-1.175575</td>\n",
       "      <td>0.647376</td>\n",
       "      <td>-0.221929</td>\n",
       "      <td>0.062723</td>\n",
       "      <td>0.061458</td>\n",
       "      <td>0.258109</td>\n",
       "      <td>0</td>\n",
       "    </tr>\n",
       "    <tr>\n",
       "      <th>3</th>\n",
       "      <td>-1.629021</td>\n",
       "      <td>-1.158233</td>\n",
       "      <td>0.877737</td>\n",
       "      <td>1.548718</td>\n",
       "      <td>0.403034</td>\n",
       "      <td>-0.407193</td>\n",
       "      <td>0.095921</td>\n",
       "      <td>0.592941</td>\n",
       "      <td>-0.270533</td>\n",
       "      <td>0.817739</td>\n",
       "      <td>...</td>\n",
       "      <td>-0.009431</td>\n",
       "      <td>0.798278</td>\n",
       "      <td>-0.137458</td>\n",
       "      <td>0.141267</td>\n",
       "      <td>-0.206010</td>\n",
       "      <td>0.502292</td>\n",
       "      <td>0.219422</td>\n",
       "      <td>0.215153</td>\n",
       "      <td>-0.001114</td>\n",
       "      <td>0</td>\n",
       "    </tr>\n",
       "    <tr>\n",
       "      <th>4</th>\n",
       "      <td>-1.629021</td>\n",
       "      <td>-0.425966</td>\n",
       "      <td>0.960523</td>\n",
       "      <td>1.141109</td>\n",
       "      <td>-0.168252</td>\n",
       "      <td>0.420987</td>\n",
       "      <td>-0.029728</td>\n",
       "      <td>0.476201</td>\n",
       "      <td>0.260314</td>\n",
       "      <td>-0.568671</td>\n",
       "      <td>...</td>\n",
       "      <td>-0.208254</td>\n",
       "      <td>-0.559825</td>\n",
       "      <td>-0.026398</td>\n",
       "      <td>-0.371427</td>\n",
       "      <td>-0.232794</td>\n",
       "      <td>0.105915</td>\n",
       "      <td>0.253844</td>\n",
       "      <td>0.081080</td>\n",
       "      <td>-0.322393</td>\n",
       "      <td>0</td>\n",
       "    </tr>\n",
       "  </tbody>\n",
       "</table>\n",
       "<p>5 rows × 31 columns</p>\n",
       "</div>"
      ],
      "text/plain": [
       "       Time        V1        V2        V3        V4        V5        V6  \\\n",
       "0 -1.642648  1.191857  0.266151  0.166480  0.448154  0.060018 -0.082361   \n",
       "1 -1.635834 -1.358354 -1.340163  1.773209  0.379780 -0.503198  1.800499   \n",
       "2 -1.635834 -0.966272 -0.185226  1.792993 -0.863291 -0.010309  1.247203   \n",
       "3 -1.629021 -1.158233  0.877737  1.548718  0.403034 -0.407193  0.095921   \n",
       "4 -1.629021 -0.425966  0.960523  1.141109 -0.168252  0.420987 -0.029728   \n",
       "\n",
       "         V7        V8        V9  ...         V21       V22       V23  \\\n",
       "0 -0.078803  0.085102 -0.255425  ...   -0.225775 -0.638672  0.101288   \n",
       "1  0.791461  0.247676 -1.514654  ...    0.247998  0.771679  0.909412   \n",
       "2  0.237609  0.377436 -1.387024  ...   -0.108300  0.005274 -0.190321   \n",
       "3  0.592941 -0.270533  0.817739  ...   -0.009431  0.798278 -0.137458   \n",
       "4  0.476201  0.260314 -0.568671  ...   -0.208254 -0.559825 -0.026398   \n",
       "\n",
       "        V24       V25       V26       V27       V28    Amount  Class  \n",
       "0 -0.339846  0.167170  0.125895 -0.008983  0.014724 -0.327141      0  \n",
       "1 -0.689281 -0.327642 -0.139097 -0.055353 -0.059752  1.494201      0  \n",
       "2 -1.175575  0.647376 -0.221929  0.062723  0.061458  0.258109      0  \n",
       "3  0.141267 -0.206010  0.502292  0.219422  0.215153 -0.001114      0  \n",
       "4 -0.371427 -0.232794  0.105915  0.253844  0.081080 -0.322393      0  \n",
       "\n",
       "[5 rows x 31 columns]"
      ]
     },
     "execution_count": 17,
     "metadata": {},
     "output_type": "execute_result"
    }
   ],
   "source": [
    "data.head()"
   ]
  },
  {
   "cell_type": "code",
   "execution_count": 18,
   "metadata": {},
   "outputs": [
    {
     "data": {
      "image/png": "[encoded data removed]",
      "text/plain": [
       "<Figure size 864x720 with 1 Axes>"
      ]
     },
     "metadata": {
      "needs_background": "light"
     },
     "output_type": "display_data"
    }
   ],
   "source": [
    "sns.catplot(data=data.iloc[:,:30], kind=\"box\",height=10,aspect=1.2);"
   ]
  },
  {
   "cell_type": "code",
   "execution_count": 19,
   "metadata": {},
   "outputs": [
    {
     "data": {
      "image/png": "[encoded data removed]",
      "text/plain": [
       "<Figure size 1440x1440 with 36 Axes>"
      ]
     },
     "metadata": {
      "needs_background": "light"
     },
     "output_type": "display_data"
    }
   ],
   "source": [
    "data.hist(figsize = (20, 20))\n",
    "plt.show()"
   ]
  },
  {
   "cell_type": "code",
   "execution_count": 20,
   "metadata": {},
   "outputs": [
    {
     "data": {
      "text/plain": [
       "<matplotlib.axes._subplots.AxesSubplot at 0x7fb9e1a995f8>"
      ]
     },
     "execution_count": 20,
     "metadata": {},
     "output_type": "execute_result"
    },
    {
     "data": {
      "image/png": "[encoded data removed]",
      "text/plain": [
       "<Figure size 720x432 with 1 Axes>"
      ]
     },
     "metadata": {
      "needs_background": "light"
     },
     "output_type": "display_data"
    }
   ],
   "source": [
    "plt.figure(figsize=(10,6))\n",
    "sns.scatterplot(x=data['Time'],y=data['Class'],size=data['Amount'],sizes = (20,2000))"
   ]
  },
  {
   "cell_type": "markdown",
   "metadata": {},
   "source": [
    " the 'Class' vs 'Time' plot clearly show that there no significant correlation between Class-Time & Class-Amount"
   ]
  },
  {
   "cell_type": "code",
   "execution_count": 21,
   "metadata": {},
   "outputs": [
    {
     "name": "stdout",
     "output_type": "stream",
     "text": [
      "(662, 30)\n",
      "(662, 1)\n"
     ]
    }
   ],
   "source": [
    "X = data.iloc[:,:-1].values\n",
    "print(X.shape)\n",
    "y = data.iloc[:,-1].values\n",
    "y = y.reshape(-1, 1)\n",
    "print(y.shape)"
   ]
  },
  {
   "cell_type": "code",
   "execution_count": 22,
   "metadata": {},
   "outputs": [],
   "source": [
    "pca = PCA().fit(X)"
   ]
  },
  {
   "cell_type": "code",
   "execution_count": 23,
   "metadata": {},
   "outputs": [
    {
     "data": {
      "image/png": "[encoded data removed]",
      "text/plain": [
       "<Figure size 432x288 with 1 Axes>"
      ]
     },
     "metadata": {
      "needs_background": "light"
     },
     "output_type": "display_data"
    }
   ],
   "source": [
    "plt.figure()\n",
    "plt.plot(np.cumsum(pca.explained_variance_ratio_)*100)\n",
    "plt.xlabel('Number of components')\n",
    "plt.ylabel('variance(%)')\n",
    "plt.title('MNIST - Explained Variance')\n",
    "plt.axhline(y=95,color = 'r', linestyle = '--')\n",
    "plt.show()"
   ]
  },
  {
   "cell_type": "code",
   "execution_count": 24,
   "metadata": {},
   "outputs": [],
   "source": [
    "pca  = PCA(20).fit(X)\n",
    "X_transformed = pca.transform(X)"
   ]
  },
  {
   "cell_type": "code",
   "execution_count": 25,
   "metadata": {},
   "outputs": [
    {
     "data": {
      "text/plain": [
       "(662, 20)"
      ]
     },
     "execution_count": 25,
     "metadata": {},
     "output_type": "execute_result"
    }
   ],
   "source": [
    "X_transformed.shape"
   ]
  },
  {
   "cell_type": "code",
   "execution_count": 26,
   "metadata": {},
   "outputs": [
    {
     "data": {
      "image/png": "[encoded data removed]",
      "text/plain": [
       "<Figure size 864x720 with 1 Axes>"
      ]
     },
     "metadata": {
      "needs_background": "light"
     },
     "output_type": "display_data"
    }
   ],
   "source": [
    "sns.catplot(data=pd.DataFrame(X_transformed), kind=\"box\",height=10,aspect=1.2);"
   ]
  },
  {
   "cell_type": "markdown",
   "metadata": {},
   "source": [
    "## Predictive models"
   ]
  },
  {
   "cell_type": "code",
   "execution_count": 27,
   "metadata": {},
   "outputs": [],
   "source": [
    "from sklearn.model_selection import train_test_split"
   ]
  },
  {
   "cell_type": "code",
   "execution_count": 28,
   "metadata": {},
   "outputs": [],
   "source": [
    "X_train, X_test, y_train, y_test = train_test_split(X, y, test_size=0.33, random_state=46, stratify = y)"
   ]
  },
  {
   "cell_type": "code",
   "execution_count": 29,
   "metadata": {},
   "outputs": [
    {
     "data": {
      "text/html": [
       "<div>\n",
       "<style scoped>\n",
       "    .dataframe tbody tr th:only-of-type {\n",
       "        vertical-align: middle;\n",
       "    }\n",
       "\n",
       "    .dataframe tbody tr th {\n",
       "        vertical-align: top;\n",
       "    }\n",
       "\n",
       "    .dataframe thead th {\n",
       "        text-align: right;\n",
       "    }\n",
       "</style>\n",
       "<table border=\"1\" class=\"dataframe\">\n",
       "  <thead>\n",
       "    <tr style=\"text-align: right;\">\n",
       "      <th></th>\n",
       "      <th>0</th>\n",
       "      <th>1</th>\n",
       "      <th>2</th>\n",
       "      <th>3</th>\n",
       "      <th>4</th>\n",
       "      <th>5</th>\n",
       "      <th>6</th>\n",
       "      <th>7</th>\n",
       "      <th>8</th>\n",
       "      <th>9</th>\n",
       "      <th>...</th>\n",
       "      <th>20</th>\n",
       "      <th>21</th>\n",
       "      <th>22</th>\n",
       "      <th>23</th>\n",
       "      <th>24</th>\n",
       "      <th>25</th>\n",
       "      <th>26</th>\n",
       "      <th>27</th>\n",
       "      <th>28</th>\n",
       "      <th>29</th>\n",
       "    </tr>\n",
       "  </thead>\n",
       "  <tbody>\n",
       "    <tr>\n",
       "      <th>0</th>\n",
       "      <td>-1.465497</td>\n",
       "      <td>-0.535388</td>\n",
       "      <td>0.865268</td>\n",
       "      <td>1.351076</td>\n",
       "      <td>0.147575</td>\n",
       "      <td>0.433680</td>\n",
       "      <td>0.086983</td>\n",
       "      <td>0.693039</td>\n",
       "      <td>0.179742</td>\n",
       "      <td>-0.285642</td>\n",
       "      <td>...</td>\n",
       "      <td>-0.283264</td>\n",
       "      <td>0.049526</td>\n",
       "      <td>0.206537</td>\n",
       "      <td>-0.187108</td>\n",
       "      <td>0.000753</td>\n",
       "      <td>0.098117</td>\n",
       "      <td>-0.553471</td>\n",
       "      <td>-0.078306</td>\n",
       "      <td>0.025427</td>\n",
       "      <td>-0.331598</td>\n",
       "    </tr>\n",
       "    <tr>\n",
       "      <th>1</th>\n",
       "      <td>1.171323</td>\n",
       "      <td>-1.581222</td>\n",
       "      <td>0.391512</td>\n",
       "      <td>1.916333</td>\n",
       "      <td>-0.087840</td>\n",
       "      <td>-0.421410</td>\n",
       "      <td>0.270447</td>\n",
       "      <td>-0.135966</td>\n",
       "      <td>0.231828</td>\n",
       "      <td>0.377201</td>\n",
       "      <td>...</td>\n",
       "      <td>-0.335264</td>\n",
       "      <td>0.142557</td>\n",
       "      <td>0.621812</td>\n",
       "      <td>0.213053</td>\n",
       "      <td>0.018859</td>\n",
       "      <td>-0.305393</td>\n",
       "      <td>0.300156</td>\n",
       "      <td>-0.287681</td>\n",
       "      <td>0.185402</td>\n",
       "      <td>-0.194841</td>\n",
       "    </tr>\n",
       "    <tr>\n",
       "      <th>2</th>\n",
       "      <td>0.803395</td>\n",
       "      <td>1.261597</td>\n",
       "      <td>0.256346</td>\n",
       "      <td>0.513254</td>\n",
       "      <td>0.619054</td>\n",
       "      <td>-0.472482</td>\n",
       "      <td>-0.989342</td>\n",
       "      <td>0.065431</td>\n",
       "      <td>-0.208781</td>\n",
       "      <td>0.035924</td>\n",
       "      <td>...</td>\n",
       "      <td>-0.090150</td>\n",
       "      <td>-0.257305</td>\n",
       "      <td>-0.739810</td>\n",
       "      <td>0.135646</td>\n",
       "      <td>0.376418</td>\n",
       "      <td>0.220320</td>\n",
       "      <td>0.094706</td>\n",
       "      <td>-0.028559</td>\n",
       "      <td>0.019023</td>\n",
       "      <td>-0.333923</td>\n",
       "    </tr>\n",
       "    <tr>\n",
       "      <th>3</th>\n",
       "      <td>-1.308787</td>\n",
       "      <td>1.098608</td>\n",
       "      <td>0.202424</td>\n",
       "      <td>0.525456</td>\n",
       "      <td>1.323436</td>\n",
       "      <td>-0.130486</td>\n",
       "      <td>0.039924</td>\n",
       "      <td>0.028379</td>\n",
       "      <td>0.072841</td>\n",
       "      <td>-0.097869</td>\n",
       "      <td>...</td>\n",
       "      <td>-0.128041</td>\n",
       "      <td>-0.024972</td>\n",
       "      <td>0.154264</td>\n",
       "      <td>-0.063147</td>\n",
       "      <td>0.253205</td>\n",
       "      <td>0.629405</td>\n",
       "      <td>-0.345345</td>\n",
       "      <td>0.040469</td>\n",
       "      <td>0.010264</td>\n",
       "      <td>-0.276323</td>\n",
       "    </tr>\n",
       "    <tr>\n",
       "      <th>4</th>\n",
       "      <td>-1.615394</td>\n",
       "      <td>1.229658</td>\n",
       "      <td>0.141004</td>\n",
       "      <td>0.045371</td>\n",
       "      <td>1.202613</td>\n",
       "      <td>0.191881</td>\n",
       "      <td>0.272708</td>\n",
       "      <td>-0.005159</td>\n",
       "      <td>0.081213</td>\n",
       "      <td>0.464960</td>\n",
       "      <td>...</td>\n",
       "      <td>-0.219633</td>\n",
       "      <td>-0.167716</td>\n",
       "      <td>-0.270710</td>\n",
       "      <td>-0.154104</td>\n",
       "      <td>-0.780055</td>\n",
       "      <td>0.750137</td>\n",
       "      <td>-0.257237</td>\n",
       "      <td>0.034507</td>\n",
       "      <td>0.005168</td>\n",
       "      <td>-0.315999</td>\n",
       "    </tr>\n",
       "  </tbody>\n",
       "</table>\n",
       "<p>5 rows × 30 columns</p>\n",
       "</div>"
      ],
      "text/plain": [
       "         0         1         2         3         4         5         6   \\\n",
       "0 -1.465497 -0.535388  0.865268  1.351076  0.147575  0.433680  0.086983   \n",
       "1  1.171323 -1.581222  0.391512  1.916333 -0.087840 -0.421410  0.270447   \n",
       "2  0.803395  1.261597  0.256346  0.513254  0.619054 -0.472482 -0.989342   \n",
       "3 -1.308787  1.098608  0.202424  0.525456  1.323436 -0.130486  0.039924   \n",
       "4 -1.615394  1.229658  0.141004  0.045371  1.202613  0.191881  0.272708   \n",
       "\n",
       "         7         8         9     ...           20        21        22  \\\n",
       "0  0.693039  0.179742 -0.285642    ...    -0.283264  0.049526  0.206537   \n",
       "1 -0.135966  0.231828  0.377201    ...    -0.335264  0.142557  0.621812   \n",
       "2  0.065431 -0.208781  0.035924    ...    -0.090150 -0.257305 -0.739810   \n",
       "3  0.028379  0.072841 -0.097869    ...    -0.128041 -0.024972  0.154264   \n",
       "4 -0.005159  0.081213  0.464960    ...    -0.219633 -0.167716 -0.270710   \n",
       "\n",
       "         23        24        25        26        27        28        29  \n",
       "0 -0.187108  0.000753  0.098117 -0.553471 -0.078306  0.025427 -0.331598  \n",
       "1  0.213053  0.018859 -0.305393  0.300156 -0.287681  0.185402 -0.194841  \n",
       "2  0.135646  0.376418  0.220320  0.094706 -0.028559  0.019023 -0.333923  \n",
       "3 -0.063147  0.253205  0.629405 -0.345345  0.040469  0.010264 -0.276323  \n",
       "4 -0.154104 -0.780055  0.750137 -0.257237  0.034507  0.005168 -0.315999  \n",
       "\n",
       "[5 rows x 30 columns]"
      ]
     },
     "execution_count": 29,
     "metadata": {},
     "output_type": "execute_result"
    }
   ],
   "source": [
    "pd.DataFrame(X_train[:5])"
   ]
  },
  {
   "cell_type": "code",
   "execution_count": 30,
   "metadata": {},
   "outputs": [],
   "source": [
    "X_train_pca, X_test_pca, y_train_pca, y_test_pca = train_test_split(X_transformed, y, test_size=0.33, random_state=46, stratify = y)"
   ]
  },
  {
   "cell_type": "code",
   "execution_count": 31,
   "metadata": {},
   "outputs": [
    {
     "data": {
      "text/html": [
       "<div>\n",
       "<style scoped>\n",
       "    .dataframe tbody tr th:only-of-type {\n",
       "        vertical-align: middle;\n",
       "    }\n",
       "\n",
       "    .dataframe tbody tr th {\n",
       "        vertical-align: top;\n",
       "    }\n",
       "\n",
       "    .dataframe thead th {\n",
       "        text-align: right;\n",
       "    }\n",
       "</style>\n",
       "<table border=\"1\" class=\"dataframe\">\n",
       "  <thead>\n",
       "    <tr style=\"text-align: right;\">\n",
       "      <th></th>\n",
       "      <th>0</th>\n",
       "      <th>1</th>\n",
       "      <th>2</th>\n",
       "      <th>3</th>\n",
       "      <th>4</th>\n",
       "      <th>5</th>\n",
       "      <th>6</th>\n",
       "      <th>7</th>\n",
       "      <th>8</th>\n",
       "      <th>9</th>\n",
       "      <th>10</th>\n",
       "      <th>11</th>\n",
       "      <th>12</th>\n",
       "      <th>13</th>\n",
       "      <th>14</th>\n",
       "      <th>15</th>\n",
       "      <th>16</th>\n",
       "      <th>17</th>\n",
       "      <th>18</th>\n",
       "      <th>19</th>\n",
       "    </tr>\n",
       "  </thead>\n",
       "  <tbody>\n",
       "    <tr>\n",
       "      <th>0</th>\n",
       "      <td>0.289267</td>\n",
       "      <td>-0.358306</td>\n",
       "      <td>-0.207353</td>\n",
       "      <td>-0.568192</td>\n",
       "      <td>-1.126476</td>\n",
       "      <td>-0.154337</td>\n",
       "      <td>-1.042108</td>\n",
       "      <td>1.296395</td>\n",
       "      <td>-1.018227</td>\n",
       "      <td>-0.006421</td>\n",
       "      <td>-0.820356</td>\n",
       "      <td>0.306822</td>\n",
       "      <td>-1.088884</td>\n",
       "      <td>-0.820890</td>\n",
       "      <td>0.802148</td>\n",
       "      <td>-0.466479</td>\n",
       "      <td>-0.335545</td>\n",
       "      <td>-0.219745</td>\n",
       "      <td>0.160305</td>\n",
       "      <td>0.541204</td>\n",
       "    </tr>\n",
       "    <tr>\n",
       "      <th>1</th>\n",
       "      <td>1.249307</td>\n",
       "      <td>-0.302364</td>\n",
       "      <td>-0.738266</td>\n",
       "      <td>0.451315</td>\n",
       "      <td>-0.403416</td>\n",
       "      <td>0.629414</td>\n",
       "      <td>-1.176728</td>\n",
       "      <td>-0.924648</td>\n",
       "      <td>-0.189423</td>\n",
       "      <td>0.370303</td>\n",
       "      <td>-0.006565</td>\n",
       "      <td>-0.672967</td>\n",
       "      <td>0.459070</td>\n",
       "      <td>0.059425</td>\n",
       "      <td>-0.175543</td>\n",
       "      <td>0.451983</td>\n",
       "      <td>1.687062</td>\n",
       "      <td>-0.522726</td>\n",
       "      <td>0.180380</td>\n",
       "      <td>-0.205448</td>\n",
       "    </tr>\n",
       "    <tr>\n",
       "      <th>2</th>\n",
       "      <td>-1.374010</td>\n",
       "      <td>-1.265746</td>\n",
       "      <td>-0.122329</td>\n",
       "      <td>0.713214</td>\n",
       "      <td>0.897691</td>\n",
       "      <td>0.324555</td>\n",
       "      <td>0.730069</td>\n",
       "      <td>-0.412225</td>\n",
       "      <td>0.353396</td>\n",
       "      <td>-0.251108</td>\n",
       "      <td>0.141321</td>\n",
       "      <td>0.169637</td>\n",
       "      <td>0.229495</td>\n",
       "      <td>-0.714790</td>\n",
       "      <td>-0.368322</td>\n",
       "      <td>0.269580</td>\n",
       "      <td>0.018497</td>\n",
       "      <td>0.083760</td>\n",
       "      <td>-0.409885</td>\n",
       "      <td>-0.295732</td>\n",
       "    </tr>\n",
       "    <tr>\n",
       "      <th>3</th>\n",
       "      <td>-1.673351</td>\n",
       "      <td>-0.542707</td>\n",
       "      <td>-0.107893</td>\n",
       "      <td>-1.013573</td>\n",
       "      <td>0.059010</td>\n",
       "      <td>-0.930204</td>\n",
       "      <td>-0.850224</td>\n",
       "      <td>1.656055</td>\n",
       "      <td>-0.113394</td>\n",
       "      <td>0.851912</td>\n",
       "      <td>-0.897071</td>\n",
       "      <td>0.291815</td>\n",
       "      <td>-0.568915</td>\n",
       "      <td>-0.672467</td>\n",
       "      <td>-0.287927</td>\n",
       "      <td>0.099724</td>\n",
       "      <td>-0.365467</td>\n",
       "      <td>0.232953</td>\n",
       "      <td>-0.006309</td>\n",
       "      <td>0.270018</td>\n",
       "    </tr>\n",
       "    <tr>\n",
       "      <th>4</th>\n",
       "      <td>-1.412019</td>\n",
       "      <td>-0.040861</td>\n",
       "      <td>0.800765</td>\n",
       "      <td>-0.914180</td>\n",
       "      <td>-0.294453</td>\n",
       "      <td>-0.818751</td>\n",
       "      <td>0.747280</td>\n",
       "      <td>0.461279</td>\n",
       "      <td>0.329551</td>\n",
       "      <td>-1.921184</td>\n",
       "      <td>0.003334</td>\n",
       "      <td>0.883776</td>\n",
       "      <td>-0.147614</td>\n",
       "      <td>0.026275</td>\n",
       "      <td>0.251083</td>\n",
       "      <td>0.062743</td>\n",
       "      <td>-0.908180</td>\n",
       "      <td>-0.442813</td>\n",
       "      <td>0.534019</td>\n",
       "      <td>0.317271</td>\n",
       "    </tr>\n",
       "  </tbody>\n",
       "</table>\n",
       "</div>"
      ],
      "text/plain": [
       "         0         1         2         3         4         5         6   \\\n",
       "0  0.289267 -0.358306 -0.207353 -0.568192 -1.126476 -0.154337 -1.042108   \n",
       "1  1.249307 -0.302364 -0.738266  0.451315 -0.403416  0.629414 -1.176728   \n",
       "2 -1.374010 -1.265746 -0.122329  0.713214  0.897691  0.324555  0.730069   \n",
       "3 -1.673351 -0.542707 -0.107893 -1.013573  0.059010 -0.930204 -0.850224   \n",
       "4 -1.412019 -0.040861  0.800765 -0.914180 -0.294453 -0.818751  0.747280   \n",
       "\n",
       "         7         8         9         10        11        12        13  \\\n",
       "0  1.296395 -1.018227 -0.006421 -0.820356  0.306822 -1.088884 -0.820890   \n",
       "1 -0.924648 -0.189423  0.370303 -0.006565 -0.672967  0.459070  0.059425   \n",
       "2 -0.412225  0.353396 -0.251108  0.141321  0.169637  0.229495 -0.714790   \n",
       "3  1.656055 -0.113394  0.851912 -0.897071  0.291815 -0.568915 -0.672467   \n",
       "4  0.461279  0.329551 -1.921184  0.003334  0.883776 -0.147614  0.026275   \n",
       "\n",
       "         14        15        16        17        18        19  \n",
       "0  0.802148 -0.466479 -0.335545 -0.219745  0.160305  0.541204  \n",
       "1 -0.175543  0.451983  1.687062 -0.522726  0.180380 -0.205448  \n",
       "2 -0.368322  0.269580  0.018497  0.083760 -0.409885 -0.295732  \n",
       "3 -0.287927  0.099724 -0.365467  0.232953 -0.006309  0.270018  \n",
       "4  0.251083  0.062743 -0.908180 -0.442813  0.534019  0.317271  "
      ]
     },
     "execution_count": 31,
     "metadata": {},
     "output_type": "execute_result"
    }
   ],
   "source": [
    "pd.DataFrame(X_train_pca[:5])"
   ]
  },
  {
   "cell_type": "markdown",
   "metadata": {},
   "source": [
    "### Logistic Regression\n",
    "##### before PCA"
   ]
  },
  {
   "cell_type": "code",
   "execution_count": 32,
   "metadata": {},
   "outputs": [],
   "source": [
    "from sklearn.linear_model import LogisticRegression\n",
    "from sklearn.metrics import confusion_matrix, accuracy_score\n",
    "from sklearn.metrics import f1_score,roc_auc_score\n",
    "from sklearn.metrics import precision_score,recall_score"
   ]
  },
  {
   "cell_type": "code",
   "execution_count": 33,
   "metadata": {},
   "outputs": [
    {
     "data": {
      "text/plain": [
       "94.52054794520548"
      ]
     },
     "execution_count": 33,
     "metadata": {},
     "output_type": "execute_result"
    }
   ],
   "source": [
    "lr = LogisticRegression()\n",
    "lr.fit(X_train, y_train)\n",
    "lr_predict = lr.predict(X_test)\n",
    "lr.score(X_test,y_test)*100"
   ]
  },
  {
   "cell_type": "code",
   "execution_count": 34,
   "metadata": {},
   "outputs": [
    {
     "name": "stdout",
     "output_type": "stream",
     "text": [
      "[[207   3]\n",
      " [  9   0]]\n",
      "94.52054794520548\n"
     ]
    }
   ],
   "source": [
    "#print confusion matrix and accuracy score\n",
    "lr_conf_matrix = confusion_matrix(y_test, lr_predict)\n",
    "lr_acc_score = accuracy_score(y_test, lr_predict)\n",
    "print(lr_conf_matrix)\n",
    "print(lr_acc_score*100)"
   ]
  },
  {
   "cell_type": "markdown",
   "metadata": {},
   "source": [
    "##### after PCA"
   ]
  },
  {
   "cell_type": "code",
   "execution_count": 35,
   "metadata": {},
   "outputs": [
    {
     "data": {
      "text/plain": [
       "94.52054794520548"
      ]
     },
     "execution_count": 35,
     "metadata": {},
     "output_type": "execute_result"
    }
   ],
   "source": [
    "lr_pca = LogisticRegression()\n",
    "lr_pca.fit(X_train_pca, y_train_pca)\n",
    "lr_pca_predict = lr_pca.predict(X_test_pca)\n",
    "lr_pca.score(X_test_pca,y_test_pca)*100"
   ]
  },
  {
   "cell_type": "code",
   "execution_count": 36,
   "metadata": {},
   "outputs": [
    {
     "name": "stdout",
     "output_type": "stream",
     "text": [
      "[[207   3]\n",
      " [  9   0]]\n",
      "94.52054794520548\n"
     ]
    }
   ],
   "source": [
    "#print confusion matrix and accuracy score\n",
    "lr_pca_conf_matrix = confusion_matrix(y_test_pca, lr_pca_predict)\n",
    "lr_pca_acc_score = accuracy_score(y_test_pca, lr_pca_predict)\n",
    "print(lr_pca_conf_matrix)\n",
    "print(lr_pca_acc_score*100)"
   ]
  },
  {
   "cell_type": "markdown",
   "metadata": {},
   "source": [
    "chossing 95% feature(PCA = 20) of 30 feature variables helped to maintain the accuracy as shown in LogisticRegression above."
   ]
  },
  {
   "cell_type": "markdown",
   "metadata": {},
   "source": [
    "### Random Forrest Classifier"
   ]
  },
  {
   "cell_type": "code",
   "execution_count": 37,
   "metadata": {},
   "outputs": [],
   "source": [
    "from sklearn.ensemble import RandomForestClassifier"
   ]
  },
  {
   "cell_type": "code",
   "execution_count": 38,
   "metadata": {},
   "outputs": [],
   "source": [
    "rfc = RandomForestClassifier()"
   ]
  },
  {
   "cell_type": "code",
   "execution_count": 39,
   "metadata": {},
   "outputs": [
    {
     "data": {
      "text/plain": [
       "RandomForestClassifier(bootstrap=True, class_weight=None, criterion='gini',\n",
       "            max_depth=None, max_features='auto', max_leaf_nodes=None,\n",
       "            min_impurity_decrease=0.0, min_impurity_split=None,\n",
       "            min_samples_leaf=1, min_samples_split=2,\n",
       "            min_weight_fraction_leaf=0.0, n_estimators=10, n_jobs=None,\n",
       "            oob_score=False, random_state=None, verbose=0,\n",
       "            warm_start=False)"
      ]
     },
     "execution_count": 39,
     "metadata": {},
     "output_type": "execute_result"
    }
   ],
   "source": [
    "rfc.fit(X_train,y_train)"
   ]
  },
  {
   "cell_type": "code",
   "execution_count": 40,
   "metadata": {},
   "outputs": [],
   "source": [
    "pred = rfc.predict(X_test)"
   ]
  },
  {
   "cell_type": "code",
   "execution_count": 41,
   "metadata": {},
   "outputs": [
    {
     "data": {
      "text/plain": [
       "<matplotlib.axes._subplots.AxesSubplot at 0x7fb9e0582470>"
      ]
     },
     "execution_count": 41,
     "metadata": {},
     "output_type": "execute_result"
    },
    {
     "data": {
      "image/png": "[encoded data removed]",
      "text/plain": [
       "<Figure size 432x288 with 1 Axes>"
      ]
     },
     "metadata": {
      "needs_background": "light"
     },
     "output_type": "display_data"
    }
   ],
   "source": [
    "feature  =rfc.feature_importances_\n",
    "col  = data.columns[:-1]\n",
    "sns.barplot(x=col,y=feature)"
   ]
  },
  {
   "cell_type": "code",
   "execution_count": 42,
   "metadata": {},
   "outputs": [],
   "source": [
    "from sklearn.metrics import accuracy_score"
   ]
  },
  {
   "cell_type": "code",
   "execution_count": 43,
   "metadata": {},
   "outputs": [
    {
     "data": {
      "text/plain": [
       "0.958904109589041"
      ]
     },
     "execution_count": 43,
     "metadata": {},
     "output_type": "execute_result"
    }
   ],
   "source": [
    "accuracy_score(y_test,pred)"
   ]
  },
  {
   "cell_type": "markdown",
   "metadata": {},
   "source": [
    "### Gradient Boosting Classifier"
   ]
  },
  {
   "cell_type": "code",
   "execution_count": 44,
   "metadata": {},
   "outputs": [],
   "source": [
    "from sklearn.ensemble import GradientBoostingClassifier"
   ]
  },
  {
   "cell_type": "code",
   "execution_count": 45,
   "metadata": {},
   "outputs": [],
   "source": [
    "gbc = GradientBoostingClassifier()"
   ]
  },
  {
   "cell_type": "code",
   "execution_count": 46,
   "metadata": {},
   "outputs": [
    {
     "data": {
      "text/plain": [
       "GradientBoostingClassifier(criterion='friedman_mse', init=None,\n",
       "              learning_rate=0.1, loss='deviance', max_depth=3,\n",
       "              max_features=None, max_leaf_nodes=None,\n",
       "              min_impurity_decrease=0.0, min_impurity_split=None,\n",
       "              min_samples_leaf=1, min_samples_split=2,\n",
       "              min_weight_fraction_leaf=0.0, n_estimators=100,\n",
       "              n_iter_no_change=None, presort='auto', random_state=None,\n",
       "              subsample=1.0, tol=0.0001, validation_fraction=0.1,\n",
       "              verbose=0, warm_start=False)"
      ]
     },
     "execution_count": 46,
     "metadata": {},
     "output_type": "execute_result"
    }
   ],
   "source": [
    "gbc.fit(X_train, y_train)"
   ]
  },
  {
   "cell_type": "code",
   "execution_count": 47,
   "metadata": {},
   "outputs": [],
   "source": [
    "pred_gbc = gbc.predict(X_test)"
   ]
  },
  {
   "cell_type": "code",
   "execution_count": 48,
   "metadata": {},
   "outputs": [],
   "source": [
    "feature  =gbc.feature_importances_\n",
    "col  = data.columns[:-1]\n",
    "feature_values = pd.DataFrame({\n",
    "    \"Features\":col,\n",
    "    \"Values\":feature,\n",
    "                   })"
   ]
  },
  {
   "cell_type": "code",
   "execution_count": 49,
   "metadata": {},
   "outputs": [
    {
     "data": {
      "text/plain": [
       "<matplotlib.axes._subplots.AxesSubplot at 0x7fb9de498c18>"
      ]
     },
     "execution_count": 49,
     "metadata": {},
     "output_type": "execute_result"
    },
    {
     "data": {
      "image/png": "[encoded data removed]",
      "text/plain": [
       "<Figure size 432x288 with 1 Axes>"
      ]
     },
     "metadata": {
      "needs_background": "light"
     },
     "output_type": "display_data"
    }
   ],
   "source": [
    "sns.barplot(x=col,y=feature)"
   ]
  },
  {
   "cell_type": "code",
   "execution_count": 50,
   "metadata": {},
   "outputs": [
    {
     "data": {
      "text/plain": [
       "0.958904109589041"
      ]
     },
     "execution_count": 50,
     "metadata": {},
     "output_type": "execute_result"
    }
   ],
   "source": [
    "accuracy_score(y_test,pred_gbc)"
   ]
  },
  {
   "cell_type": "markdown",
   "metadata": {},
   "source": [
    "### XG Boost"
   ]
  },
  {
   "cell_type": "code",
   "execution_count": 51,
   "metadata": {},
   "outputs": [],
   "source": [
    "import xgboost as xgb"
   ]
  },
  {
   "cell_type": "code",
   "execution_count": 52,
   "metadata": {},
   "outputs": [],
   "source": [
    "xgb_cls = xgb.XGBClassifier()"
   ]
  },
  {
   "cell_type": "code",
   "execution_count": 53,
   "metadata": {},
   "outputs": [
    {
     "data": {
      "text/plain": [
       "XGBClassifier(base_score=0.5, booster='gbtree', colsample_bylevel=1,\n",
       "       colsample_bynode=1, colsample_bytree=1, gamma=0, learning_rate=0.1,\n",
       "       max_delta_step=0, max_depth=3, min_child_weight=1, missing=None,\n",
       "       n_estimators=100, n_jobs=1, nthread=None,\n",
       "       objective='binary:logistic', random_state=0, reg_alpha=0,\n",
       "       reg_lambda=1, scale_pos_weight=1, seed=None, silent=None,\n",
       "       subsample=1, verbosity=1)"
      ]
     },
     "execution_count": 53,
     "metadata": {},
     "output_type": "execute_result"
    }
   ],
   "source": [
    "xgb_cls.fit(X_train,y_train)"
   ]
  },
  {
   "cell_type": "code",
   "execution_count": 54,
   "metadata": {},
   "outputs": [],
   "source": [
    "pred_xgb = xgb_cls.predict(X_test)"
   ]
  },
  {
   "cell_type": "code",
   "execution_count": 55,
   "metadata": {},
   "outputs": [
    {
     "data": {
      "text/plain": [
       "<matplotlib.axes._subplots.AxesSubplot at 0x7fb9de2e8240>"
      ]
     },
     "execution_count": 55,
     "metadata": {},
     "output_type": "execute_result"
    },
    {
     "data": {
      "image/png": "[encoded data removed]",
      "text/plain": [
       "<Figure size 432x288 with 1 Axes>"
      ]
     },
     "metadata": {
      "needs_background": "light"
     },
     "output_type": "display_data"
    }
   ],
   "source": [
    "feature  =xgb_cls.feature_importances_\n",
    "col  = data.columns[:-1]\n",
    "sns.barplot(x=col,y=feature)"
   ]
  },
  {
   "cell_type": "code",
   "execution_count": 56,
   "metadata": {},
   "outputs": [
    {
     "data": {
      "text/plain": [
       "0.958904109589041"
      ]
     },
     "execution_count": 56,
     "metadata": {},
     "output_type": "execute_result"
    }
   ],
   "source": [
    "accuracy_score(y_test,pred_xgb)"
   ]
  },
  {
   "cell_type": "code",
   "execution_count": null,
   "metadata": {},
   "outputs": [],
   "source": []
  }
 ],
 "metadata": {
  "kernelspec": {
   "display_name": "Python 3",
   "language": "python",
   "name": "python3"
  },
  "language_info": {
   "codemirror_mode": {
    "name": "ipython",
    "version": 3
   },
   "file_extension": ".py",
   "mimetype": "text/x-python",
   "name": "python",
   "nbconvert_exporter": "python",
   "pygments_lexer": "ipython3",
   "version": "3.7.1"
  }
 },
 "nbformat": 4,
 "nbformat_minor": 2
}
